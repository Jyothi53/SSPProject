{
 "cells": [
  {
   "cell_type": "code",
   "execution_count": null,
   "metadata": {
    "_cell_guid": "b1076dfc-b9ad-4769-8c92-a6c4dae69d19",
    "_uuid": "8f2839f25d086af736a60e9eeb907d3b93b6e0e5",
    "execution": {
     "execution_failed": "2025-04-16T15:47:06.521Z"
    },
    "trusted": true
   },
   "outputs": [],
   "source": [
    "import numpy as np \n",
    "import pandas as pd \n",
    "import os\n",
    "import re\n",
    "import warnings\n",
    "import matplotlib.pyplot as plt\n",
    "import seaborn as sns\n",
    "import librosa\n",
    "import librosa.display\n",
    "from sklearn.preprocessing import minmax_scale\n",
    "import IPython.display as ipd\n",
    "from sklearn.svm import SVC\n",
    "from sklearn.model_selection import train_test_split\n",
    "from tqdm import tqdm\n",
    "from sklearn.preprocessing import StandardScaler\n"
   ]
  },
  {
   "cell_type": "code",
   "execution_count": 7,
   "metadata": {
    "execution": {
     "iopub.execute_input": "2025-04-16T11:20:17.687448Z",
     "iopub.status.busy": "2025-04-16T11:20:17.687040Z",
     "iopub.status.idle": "2025-04-16T11:20:17.763644Z",
     "shell.execute_reply": "2025-04-16T11:20:17.762973Z",
     "shell.execute_reply.started": "2025-04-16T11:20:17.687424Z"
    },
    "trusted": true
   },
   "outputs": [
    {
     "data": {
      "text/html": [
       "<div>\n",
       "<style scoped>\n",
       "    .dataframe tbody tr th:only-of-type {\n",
       "        vertical-align: middle;\n",
       "    }\n",
       "\n",
       "    .dataframe tbody tr th {\n",
       "        vertical-align: top;\n",
       "    }\n",
       "\n",
       "    .dataframe thead th {\n",
       "        text-align: right;\n",
       "    }\n",
       "</style>\n",
       "<table border=\"1\" class=\"dataframe\">\n",
       "  <thead>\n",
       "    <tr style=\"text-align: right;\">\n",
       "      <th></th>\n",
       "      <th>is_dysarthria</th>\n",
       "      <th>gender</th>\n",
       "      <th>filename</th>\n",
       "    </tr>\n",
       "  </thead>\n",
       "  <tbody>\n",
       "    <tr>\n",
       "      <th>0</th>\n",
       "      <td>non_dysarthria</td>\n",
       "      <td>female</td>\n",
       "      <td>torgo_data/non_dysarthria_female/FC03_Session2...</td>\n",
       "    </tr>\n",
       "    <tr>\n",
       "      <th>1</th>\n",
       "      <td>non_dysarthria</td>\n",
       "      <td>female</td>\n",
       "      <td>torgo_data/non_dysarthria_female/FC02_Session3...</td>\n",
       "    </tr>\n",
       "    <tr>\n",
       "      <th>2</th>\n",
       "      <td>non_dysarthria</td>\n",
       "      <td>female</td>\n",
       "      <td>torgo_data/non_dysarthria_female/FC02_Session3...</td>\n",
       "    </tr>\n",
       "    <tr>\n",
       "      <th>3</th>\n",
       "      <td>non_dysarthria</td>\n",
       "      <td>female</td>\n",
       "      <td>torgo_data/non_dysarthria_female/FC03_Session2...</td>\n",
       "    </tr>\n",
       "    <tr>\n",
       "      <th>4</th>\n",
       "      <td>non_dysarthria</td>\n",
       "      <td>female</td>\n",
       "      <td>torgo_data/non_dysarthria_female/FC03_Session1...</td>\n",
       "    </tr>\n",
       "    <tr>\n",
       "      <th>...</th>\n",
       "      <td>...</td>\n",
       "      <td>...</td>\n",
       "      <td>...</td>\n",
       "    </tr>\n",
       "    <tr>\n",
       "      <th>1995</th>\n",
       "      <td>dysarthria</td>\n",
       "      <td>male</td>\n",
       "      <td>torgo_data/dysarthria_male/M03_Session2_0144.wav</td>\n",
       "    </tr>\n",
       "    <tr>\n",
       "      <th>1996</th>\n",
       "      <td>dysarthria</td>\n",
       "      <td>male</td>\n",
       "      <td>torgo_data/dysarthria_male/M02_Session1_0005.wav</td>\n",
       "    </tr>\n",
       "    <tr>\n",
       "      <th>1997</th>\n",
       "      <td>dysarthria</td>\n",
       "      <td>male</td>\n",
       "      <td>torgo_data/dysarthria_male/M03_Session2_0040.wav</td>\n",
       "    </tr>\n",
       "    <tr>\n",
       "      <th>1998</th>\n",
       "      <td>dysarthria</td>\n",
       "      <td>male</td>\n",
       "      <td>torgo_data/dysarthria_male/M03_Session2_0260.wav</td>\n",
       "    </tr>\n",
       "    <tr>\n",
       "      <th>1999</th>\n",
       "      <td>dysarthria</td>\n",
       "      <td>male</td>\n",
       "      <td>torgo_data/dysarthria_male/M03_Session2_0145.wav</td>\n",
       "    </tr>\n",
       "  </tbody>\n",
       "</table>\n",
       "<p>2000 rows × 3 columns</p>\n",
       "</div>"
      ],
      "text/plain": [
       "       is_dysarthria  gender  \\\n",
       "0     non_dysarthria  female   \n",
       "1     non_dysarthria  female   \n",
       "2     non_dysarthria  female   \n",
       "3     non_dysarthria  female   \n",
       "4     non_dysarthria  female   \n",
       "...              ...     ...   \n",
       "1995      dysarthria    male   \n",
       "1996      dysarthria    male   \n",
       "1997      dysarthria    male   \n",
       "1998      dysarthria    male   \n",
       "1999      dysarthria    male   \n",
       "\n",
       "                                               filename  \n",
       "0     torgo_data/non_dysarthria_female/FC03_Session2...  \n",
       "1     torgo_data/non_dysarthria_female/FC02_Session3...  \n",
       "2     torgo_data/non_dysarthria_female/FC02_Session3...  \n",
       "3     torgo_data/non_dysarthria_female/FC03_Session2...  \n",
       "4     torgo_data/non_dysarthria_female/FC03_Session1...  \n",
       "...                                                 ...  \n",
       "1995   torgo_data/dysarthria_male/M03_Session2_0144.wav  \n",
       "1996   torgo_data/dysarthria_male/M02_Session1_0005.wav  \n",
       "1997   torgo_data/dysarthria_male/M03_Session2_0040.wav  \n",
       "1998   torgo_data/dysarthria_male/M03_Session2_0260.wav  \n",
       "1999   torgo_data/dysarthria_male/M03_Session2_0145.wav  \n",
       "\n",
       "[2000 rows x 3 columns]"
      ]
     },
     "execution_count": 7,
     "metadata": {},
     "output_type": "execute_result"
    }
   ],
   "source": [
    "df = pd.read_csv('/kaggle/input/dysarthria-detection/torgo_data/data.csv')\n",
    "df"
   ]
  },
  {
   "cell_type": "code",
   "execution_count": 8,
   "metadata": {
    "execution": {
     "iopub.execute_input": "2025-04-16T11:20:19.050264Z",
     "iopub.status.busy": "2025-04-16T11:20:19.049831Z",
     "iopub.status.idle": "2025-04-16T11:20:19.057443Z",
     "shell.execute_reply": "2025-04-16T11:20:19.056456Z",
     "shell.execute_reply.started": "2025-04-16T11:20:19.050229Z"
    },
    "trusted": true
   },
   "outputs": [],
   "source": [
    "df['filename'] = df['filename'].apply(lambda x: os.path.join('/kaggle/input/dysarthria-detection',x))"
   ]
  },
  {
   "cell_type": "code",
   "execution_count": 6,
   "metadata": {
    "execution": {
     "iopub.execute_input": "2025-04-16T05:29:52.434380Z",
     "iopub.status.busy": "2025-04-16T05:29:52.434095Z",
     "iopub.status.idle": "2025-04-16T05:29:52.440382Z",
     "shell.execute_reply": "2025-04-16T05:29:52.439373Z",
     "shell.execute_reply.started": "2025-04-16T05:29:52.434358Z"
    },
    "trusted": true
   },
   "outputs": [],
   "source": [
    "def extract_mfcc_features(signal, fs, n_mfcc=52):\n",
    "    preemphasized_signal = librosa.effects.preemphasis(signal)\n",
    "    mfccs = librosa.feature.mfcc(y=preemphasized_signal, sr=fs, n_mfcc=n_mfcc)\n",
    "    return np.mean(mfccs, axis=1)\n",
    "\n",
    "\n",
    "def feature_extraction_only_mfcc(df):\n",
    "    features = []\n",
    "    for i, record in tqdm(df.iterrows(), total=df.shape[0]):\n",
    "        try:\n",
    "            speech, fs = librosa.load(record['filename'])\n",
    "            mfcc_features = extract_mfcc_features(speech, fs)  # (52 features)\n",
    "            all_features = np.concatenate([mfcc_features])\n",
    "            features.append(np.append(all_features, [record['is_dysarthria'], record['gender']]))  \n",
    "        except Exception as e:\n",
    "            print(f\"Error processing {record['filename']}: {e}\")\n",
    "\n",
    "    column_names = (\n",
    "        [f\"MFCC_{i}\" for i in range(52)] + ['class', 'gender'])\n",
    "    return pd.DataFrame(features, columns=column_names)\n"
   ]
  },
  {
   "cell_type": "code",
   "execution_count": 7,
   "metadata": {
    "execution": {
     "iopub.execute_input": "2025-04-16T05:29:57.212441Z",
     "iopub.status.busy": "2025-04-16T05:29:57.212132Z",
     "iopub.status.idle": "2025-04-16T05:30:21.322597Z",
     "shell.execute_reply": "2025-04-16T05:30:21.321749Z",
     "shell.execute_reply.started": "2025-04-16T05:29:57.212414Z"
    },
    "trusted": true
   },
   "outputs": [
    {
     "name": "stderr",
     "output_type": "stream",
     "text": [
      " 30%|██▉       | 599/2000 [00:08<00:15, 91.99it/s]<ipython-input-6-791cab90e331>:11: UserWarning: PySoundFile failed. Trying audioread instead.\n",
      "  speech, fs = librosa.load(record['filename'])\n",
      "/usr/local/lib/python3.10/dist-packages/librosa/core/audio.py:184: FutureWarning: librosa.core.audio.__audioread_load\n",
      "\tDeprecated as of librosa version 0.10.0.\n",
      "\tIt will be removed in librosa version 1.0.\n",
      "  y, sr_native = __audioread_load(path, offset, duration, dtype)\n",
      " 30%|███       | 610/2000 [00:08<00:14, 95.39it/s]"
     ]
    },
    {
     "name": "stdout",
     "output_type": "stream",
     "text": [
      "Error processing /kaggle/input/dysarthria-detection/torgo_data/dysarthria_female/F01_Session1_0068.wav: \n"
     ]
    },
    {
     "name": "stderr",
     "output_type": "stream",
     "text": [
      " 77%|███████▋  | 1549/2000 [00:18<00:05, 83.06it/s] /usr/local/lib/python3.10/dist-packages/librosa/core/spectrum.py:266: UserWarning: n_fft=2048 is too large for input signal of length=209\n",
      "  warnings.warn(\n",
      " 78%|███████▊  | 1558/2000 [00:18<00:05, 83.63it/s]/usr/local/lib/python3.10/dist-packages/librosa/core/spectrum.py:266: UserWarning: n_fft=2048 is too large for input signal of length=583\n",
      "  warnings.warn(\n",
      " 80%|███████▉  | 1590/2000 [00:18<00:04, 89.03it/s]/usr/local/lib/python3.10/dist-packages/librosa/core/spectrum.py:266: UserWarning: n_fft=2048 is too large for input signal of length=581\n",
      "  warnings.warn(\n",
      " 83%|████████▎ | 1668/2000 [00:19<00:03, 85.47it/s]/usr/local/lib/python3.10/dist-packages/librosa/core/spectrum.py:266: UserWarning: n_fft=2048 is too large for input signal of length=185\n",
      "  warnings.warn(\n",
      " 85%|████████▍ | 1696/2000 [00:20<00:03, 85.75it/s]/usr/local/lib/python3.10/dist-packages/librosa/core/spectrum.py:266: UserWarning: n_fft=2048 is too large for input signal of length=946\n",
      "  warnings.warn(\n",
      " 92%|█████████▏| 1833/2000 [00:21<00:02, 79.75it/s]/usr/local/lib/python3.10/dist-packages/librosa/core/spectrum.py:266: UserWarning: n_fft=2048 is too large for input signal of length=214\n",
      "  warnings.warn(\n",
      "100%|██████████| 2000/2000 [00:24<00:00, 83.24it/s]\n",
      "<ipython-input-7-5df5e0e70326>:3: FutureWarning: Downcasting behavior in `replace` is deprecated and will be removed in a future version. To retain the old behavior, explicitly call `result.infer_objects(copy=False)`. To opt-in to the future behavior, set `pd.set_option('future.no_silent_downcasting', True)`\n",
      "  data_with_feat_mfcc['class'] = data_with_feat_mfcc['class'].replace('dysarthria',1)\n",
      "<ipython-input-7-5df5e0e70326>:5: FutureWarning: Downcasting behavior in `replace` is deprecated and will be removed in a future version. To retain the old behavior, explicitly call `result.infer_objects(copy=False)`. To opt-in to the future behavior, set `pd.set_option('future.no_silent_downcasting', True)`\n",
      "  data_with_feat_mfcc['gender'] = data_with_feat_mfcc['gender'].replace('female', 0)\n"
     ]
    },
    {
     "data": {
      "text/html": [
       "<div>\n",
       "<style scoped>\n",
       "    .dataframe tbody tr th:only-of-type {\n",
       "        vertical-align: middle;\n",
       "    }\n",
       "\n",
       "    .dataframe tbody tr th {\n",
       "        vertical-align: top;\n",
       "    }\n",
       "\n",
       "    .dataframe thead th {\n",
       "        text-align: right;\n",
       "    }\n",
       "</style>\n",
       "<table border=\"1\" class=\"dataframe\">\n",
       "  <thead>\n",
       "    <tr style=\"text-align: right;\">\n",
       "      <th></th>\n",
       "      <th>MFCC_0</th>\n",
       "      <th>MFCC_1</th>\n",
       "      <th>MFCC_2</th>\n",
       "      <th>MFCC_3</th>\n",
       "      <th>MFCC_4</th>\n",
       "      <th>MFCC_5</th>\n",
       "      <th>MFCC_6</th>\n",
       "      <th>MFCC_7</th>\n",
       "      <th>MFCC_8</th>\n",
       "      <th>MFCC_9</th>\n",
       "      <th>...</th>\n",
       "      <th>MFCC_44</th>\n",
       "      <th>MFCC_45</th>\n",
       "      <th>MFCC_46</th>\n",
       "      <th>MFCC_47</th>\n",
       "      <th>MFCC_48</th>\n",
       "      <th>MFCC_49</th>\n",
       "      <th>MFCC_50</th>\n",
       "      <th>MFCC_51</th>\n",
       "      <th>class</th>\n",
       "      <th>gender</th>\n",
       "    </tr>\n",
       "  </thead>\n",
       "  <tbody>\n",
       "    <tr>\n",
       "      <th>0</th>\n",
       "      <td>-319.7045</td>\n",
       "      <td>35.161507</td>\n",
       "      <td>-66.34302</td>\n",
       "      <td>51.268147</td>\n",
       "      <td>-50.792416</td>\n",
       "      <td>34.19954</td>\n",
       "      <td>-29.19774</td>\n",
       "      <td>17.997763</td>\n",
       "      <td>-9.4621935</td>\n",
       "      <td>-0.5122181</td>\n",
       "      <td>...</td>\n",
       "      <td>-4.5058756</td>\n",
       "      <td>-1.5363845</td>\n",
       "      <td>-5.0564704</td>\n",
       "      <td>-3.4387124</td>\n",
       "      <td>-4.2227654</td>\n",
       "      <td>-2.2731867</td>\n",
       "      <td>0.4243103</td>\n",
       "      <td>-0.49626946</td>\n",
       "      <td>0</td>\n",
       "      <td>0</td>\n",
       "    </tr>\n",
       "    <tr>\n",
       "      <th>1</th>\n",
       "      <td>-395.44254</td>\n",
       "      <td>40.966072</td>\n",
       "      <td>-64.21012</td>\n",
       "      <td>49.29909</td>\n",
       "      <td>-52.021427</td>\n",
       "      <td>34.75533</td>\n",
       "      <td>-20.61536</td>\n",
       "      <td>25.536705</td>\n",
       "      <td>-7.5747924</td>\n",
       "      <td>4.6627607</td>\n",
       "      <td>...</td>\n",
       "      <td>-6.344143</td>\n",
       "      <td>-4.169222</td>\n",
       "      <td>-6.5706644</td>\n",
       "      <td>-2.3804123</td>\n",
       "      <td>-3.0671916</td>\n",
       "      <td>-2.7551515</td>\n",
       "      <td>0.38413244</td>\n",
       "      <td>-0.8819986</td>\n",
       "      <td>0</td>\n",
       "      <td>0</td>\n",
       "    </tr>\n",
       "    <tr>\n",
       "      <th>2</th>\n",
       "      <td>-400.7094</td>\n",
       "      <td>45.508183</td>\n",
       "      <td>-73.22846</td>\n",
       "      <td>57.570812</td>\n",
       "      <td>-59.73956</td>\n",
       "      <td>40.009903</td>\n",
       "      <td>-23.322557</td>\n",
       "      <td>26.447178</td>\n",
       "      <td>-7.871122</td>\n",
       "      <td>5.9670362</td>\n",
       "      <td>...</td>\n",
       "      <td>-7.1083784</td>\n",
       "      <td>-3.794058</td>\n",
       "      <td>-6.653496</td>\n",
       "      <td>-3.121459</td>\n",
       "      <td>-4.4126153</td>\n",
       "      <td>-2.3347008</td>\n",
       "      <td>-0.13959113</td>\n",
       "      <td>-0.8432585</td>\n",
       "      <td>0</td>\n",
       "      <td>0</td>\n",
       "    </tr>\n",
       "    <tr>\n",
       "      <th>3</th>\n",
       "      <td>-303.36227</td>\n",
       "      <td>42.922634</td>\n",
       "      <td>-77.73571</td>\n",
       "      <td>44.11482</td>\n",
       "      <td>-58.83759</td>\n",
       "      <td>34.619595</td>\n",
       "      <td>-27.90659</td>\n",
       "      <td>18.597755</td>\n",
       "      <td>-10.9610815</td>\n",
       "      <td>4.2977843</td>\n",
       "      <td>...</td>\n",
       "      <td>-6.555074</td>\n",
       "      <td>-1.2236726</td>\n",
       "      <td>-3.9311428</td>\n",
       "      <td>-1.7308125</td>\n",
       "      <td>-1.85476</td>\n",
       "      <td>-2.1504872</td>\n",
       "      <td>0.38307458</td>\n",
       "      <td>-1.4279135</td>\n",
       "      <td>0</td>\n",
       "      <td>0</td>\n",
       "    </tr>\n",
       "    <tr>\n",
       "      <th>4</th>\n",
       "      <td>-380.4776</td>\n",
       "      <td>41.505455</td>\n",
       "      <td>-70.097115</td>\n",
       "      <td>60.845333</td>\n",
       "      <td>-55.586807</td>\n",
       "      <td>44.16475</td>\n",
       "      <td>-29.470608</td>\n",
       "      <td>26.530014</td>\n",
       "      <td>-8.528628</td>\n",
       "      <td>3.3341653</td>\n",
       "      <td>...</td>\n",
       "      <td>-6.7447896</td>\n",
       "      <td>-2.504473</td>\n",
       "      <td>-7.4847293</td>\n",
       "      <td>-1.6244006</td>\n",
       "      <td>-3.1706736</td>\n",
       "      <td>-2.378174</td>\n",
       "      <td>0.8780274</td>\n",
       "      <td>0.091998786</td>\n",
       "      <td>0</td>\n",
       "      <td>0</td>\n",
       "    </tr>\n",
       "    <tr>\n",
       "      <th>...</th>\n",
       "      <td>...</td>\n",
       "      <td>...</td>\n",
       "      <td>...</td>\n",
       "      <td>...</td>\n",
       "      <td>...</td>\n",
       "      <td>...</td>\n",
       "      <td>...</td>\n",
       "      <td>...</td>\n",
       "      <td>...</td>\n",
       "      <td>...</td>\n",
       "      <td>...</td>\n",
       "      <td>...</td>\n",
       "      <td>...</td>\n",
       "      <td>...</td>\n",
       "      <td>...</td>\n",
       "      <td>...</td>\n",
       "      <td>...</td>\n",
       "      <td>...</td>\n",
       "      <td>...</td>\n",
       "      <td>...</td>\n",
       "      <td>...</td>\n",
       "    </tr>\n",
       "    <tr>\n",
       "      <th>1994</th>\n",
       "      <td>-402.0437</td>\n",
       "      <td>48.89409</td>\n",
       "      <td>-49.44366</td>\n",
       "      <td>37.44017</td>\n",
       "      <td>-35.224632</td>\n",
       "      <td>23.513338</td>\n",
       "      <td>-17.929684</td>\n",
       "      <td>8.643148</td>\n",
       "      <td>-9.682321</td>\n",
       "      <td>-4.864476</td>\n",
       "      <td>...</td>\n",
       "      <td>-1.2102699</td>\n",
       "      <td>0.2593692</td>\n",
       "      <td>-0.30640313</td>\n",
       "      <td>4.1314764</td>\n",
       "      <td>4.4224787</td>\n",
       "      <td>2.0771952</td>\n",
       "      <td>3.580518</td>\n",
       "      <td>4.074891</td>\n",
       "      <td>1</td>\n",
       "      <td>1</td>\n",
       "    </tr>\n",
       "    <tr>\n",
       "      <th>1995</th>\n",
       "      <td>-567.24225</td>\n",
       "      <td>53.42506</td>\n",
       "      <td>-24.851572</td>\n",
       "      <td>5.648115</td>\n",
       "      <td>-42.638477</td>\n",
       "      <td>14.371315</td>\n",
       "      <td>-28.034782</td>\n",
       "      <td>12.563507</td>\n",
       "      <td>-5.3071346</td>\n",
       "      <td>-2.4107144</td>\n",
       "      <td>...</td>\n",
       "      <td>-0.19318683</td>\n",
       "      <td>5.2797875</td>\n",
       "      <td>2.5829372</td>\n",
       "      <td>5.5325646</td>\n",
       "      <td>2.6679924</td>\n",
       "      <td>0.4258839</td>\n",
       "      <td>1.1258968</td>\n",
       "      <td>0.17784452</td>\n",
       "      <td>1</td>\n",
       "      <td>1</td>\n",
       "    </tr>\n",
       "    <tr>\n",
       "      <th>1996</th>\n",
       "      <td>-472.70474</td>\n",
       "      <td>55.216194</td>\n",
       "      <td>-48.241093</td>\n",
       "      <td>38.618504</td>\n",
       "      <td>-31.28108</td>\n",
       "      <td>22.451336</td>\n",
       "      <td>-14.904069</td>\n",
       "      <td>16.969027</td>\n",
       "      <td>-5.566646</td>\n",
       "      <td>1.9870967</td>\n",
       "      <td>...</td>\n",
       "      <td>-3.0755556</td>\n",
       "      <td>-0.32984915</td>\n",
       "      <td>-2.210794</td>\n",
       "      <td>3.444888</td>\n",
       "      <td>2.3652935</td>\n",
       "      <td>2.474335</td>\n",
       "      <td>5.7890086</td>\n",
       "      <td>3.5479848</td>\n",
       "      <td>1</td>\n",
       "      <td>1</td>\n",
       "    </tr>\n",
       "    <tr>\n",
       "      <th>1997</th>\n",
       "      <td>-406.1352</td>\n",
       "      <td>54.426342</td>\n",
       "      <td>-61.200016</td>\n",
       "      <td>50.883335</td>\n",
       "      <td>-42.66797</td>\n",
       "      <td>20.043901</td>\n",
       "      <td>-20.154718</td>\n",
       "      <td>17.3035</td>\n",
       "      <td>-13.471844</td>\n",
       "      <td>-4.6676664</td>\n",
       "      <td>...</td>\n",
       "      <td>-0.9948297</td>\n",
       "      <td>2.6853592</td>\n",
       "      <td>1.079636</td>\n",
       "      <td>2.7016742</td>\n",
       "      <td>1.9857001</td>\n",
       "      <td>3.738986</td>\n",
       "      <td>3.9398618</td>\n",
       "      <td>2.0509567</td>\n",
       "      <td>1</td>\n",
       "      <td>1</td>\n",
       "    </tr>\n",
       "    <tr>\n",
       "      <th>1998</th>\n",
       "      <td>-487.27414</td>\n",
       "      <td>36.031265</td>\n",
       "      <td>-47.23318</td>\n",
       "      <td>49.10351</td>\n",
       "      <td>-46.44953</td>\n",
       "      <td>33.414024</td>\n",
       "      <td>-17.258854</td>\n",
       "      <td>20.593779</td>\n",
       "      <td>-7.8412533</td>\n",
       "      <td>-0.040905878</td>\n",
       "      <td>...</td>\n",
       "      <td>-2.008442</td>\n",
       "      <td>0.44578946</td>\n",
       "      <td>-3.0101967</td>\n",
       "      <td>3.1765375</td>\n",
       "      <td>1.9096487</td>\n",
       "      <td>-0.044238985</td>\n",
       "      <td>2.3231723</td>\n",
       "      <td>2.810866</td>\n",
       "      <td>1</td>\n",
       "      <td>1</td>\n",
       "    </tr>\n",
       "  </tbody>\n",
       "</table>\n",
       "<p>1999 rows × 54 columns</p>\n",
       "</div>"
      ],
      "text/plain": [
       "          MFCC_0     MFCC_1      MFCC_2     MFCC_3      MFCC_4     MFCC_5  \\\n",
       "0      -319.7045  35.161507   -66.34302  51.268147  -50.792416   34.19954   \n",
       "1     -395.44254  40.966072   -64.21012   49.29909  -52.021427   34.75533   \n",
       "2      -400.7094  45.508183   -73.22846  57.570812   -59.73956  40.009903   \n",
       "3     -303.36227  42.922634   -77.73571   44.11482   -58.83759  34.619595   \n",
       "4      -380.4776  41.505455  -70.097115  60.845333  -55.586807   44.16475   \n",
       "...          ...        ...         ...        ...         ...        ...   \n",
       "1994   -402.0437   48.89409   -49.44366   37.44017  -35.224632  23.513338   \n",
       "1995  -567.24225   53.42506  -24.851572   5.648115  -42.638477  14.371315   \n",
       "1996  -472.70474  55.216194  -48.241093  38.618504   -31.28108  22.451336   \n",
       "1997   -406.1352  54.426342  -61.200016  50.883335   -42.66797  20.043901   \n",
       "1998  -487.27414  36.031265   -47.23318   49.10351   -46.44953  33.414024   \n",
       "\n",
       "          MFCC_6     MFCC_7       MFCC_8        MFCC_9  ...      MFCC_44  \\\n",
       "0      -29.19774  17.997763   -9.4621935    -0.5122181  ...   -4.5058756   \n",
       "1      -20.61536  25.536705   -7.5747924     4.6627607  ...    -6.344143   \n",
       "2     -23.322557  26.447178    -7.871122     5.9670362  ...   -7.1083784   \n",
       "3      -27.90659  18.597755  -10.9610815     4.2977843  ...    -6.555074   \n",
       "4     -29.470608  26.530014    -8.528628     3.3341653  ...   -6.7447896   \n",
       "...          ...        ...          ...           ...  ...          ...   \n",
       "1994  -17.929684   8.643148    -9.682321     -4.864476  ...   -1.2102699   \n",
       "1995  -28.034782  12.563507   -5.3071346    -2.4107144  ...  -0.19318683   \n",
       "1996  -14.904069  16.969027    -5.566646     1.9870967  ...   -3.0755556   \n",
       "1997  -20.154718    17.3035   -13.471844    -4.6676664  ...   -0.9948297   \n",
       "1998  -17.258854  20.593779   -7.8412533  -0.040905878  ...    -2.008442   \n",
       "\n",
       "          MFCC_45      MFCC_46     MFCC_47     MFCC_48       MFCC_49  \\\n",
       "0      -1.5363845   -5.0564704  -3.4387124  -4.2227654    -2.2731867   \n",
       "1       -4.169222   -6.5706644  -2.3804123  -3.0671916    -2.7551515   \n",
       "2       -3.794058    -6.653496   -3.121459  -4.4126153    -2.3347008   \n",
       "3      -1.2236726   -3.9311428  -1.7308125    -1.85476    -2.1504872   \n",
       "4       -2.504473   -7.4847293  -1.6244006  -3.1706736     -2.378174   \n",
       "...           ...          ...         ...         ...           ...   \n",
       "1994    0.2593692  -0.30640313   4.1314764   4.4224787     2.0771952   \n",
       "1995    5.2797875    2.5829372   5.5325646   2.6679924     0.4258839   \n",
       "1996  -0.32984915    -2.210794    3.444888   2.3652935      2.474335   \n",
       "1997    2.6853592     1.079636   2.7016742   1.9857001      3.738986   \n",
       "1998   0.44578946   -3.0101967   3.1765375   1.9096487  -0.044238985   \n",
       "\n",
       "          MFCC_50      MFCC_51 class gender  \n",
       "0       0.4243103  -0.49626946     0      0  \n",
       "1      0.38413244   -0.8819986     0      0  \n",
       "2     -0.13959113   -0.8432585     0      0  \n",
       "3      0.38307458   -1.4279135     0      0  \n",
       "4       0.8780274  0.091998786     0      0  \n",
       "...           ...          ...   ...    ...  \n",
       "1994     3.580518     4.074891     1      1  \n",
       "1995    1.1258968   0.17784452     1      1  \n",
       "1996    5.7890086    3.5479848     1      1  \n",
       "1997    3.9398618    2.0509567     1      1  \n",
       "1998    2.3231723     2.810866     1      1  \n",
       "\n",
       "[1999 rows x 54 columns]"
      ]
     },
     "execution_count": 7,
     "metadata": {},
     "output_type": "execute_result"
    }
   ],
   "source": [
    "data_with_feat_mfcc = feature_extraction_only_mfcc(df)\n",
    "data_with_feat_mfcc['class'] = data_with_feat_mfcc['class'].replace('non_dysarthria',0)\n",
    "data_with_feat_mfcc['class'] = data_with_feat_mfcc['class'].replace('dysarthria',1)\n",
    "data_with_feat_mfcc['gender'] = data_with_feat_mfcc['gender'].replace('male', 1)\n",
    "data_with_feat_mfcc['gender'] = data_with_feat_mfcc['gender'].replace('female', 0)\n",
    "data_with_feat_mfcc"
   ]
  },
  {
   "cell_type": "code",
   "execution_count": null,
   "metadata": {
    "execution": {
     "iopub.execute_input": "2025-04-16T05:30:21.324055Z",
     "iopub.status.busy": "2025-04-16T05:30:21.323657Z",
     "iopub.status.idle": "2025-04-16T05:30:21.505824Z",
     "shell.execute_reply": "2025-04-16T05:30:21.504851Z",
     "shell.execute_reply.started": "2025-04-16T05:30:21.324033Z"
    },
    "trusted": true
   },
   "outputs": [],
   "source": [
    "X_mfcc = data_with_feat_mfcc.drop(columns = ['class'])\n",
    "X_mfcc.columns = X_mfcc.columns.astype(str)\n",
    "y_mfcc = data_with_feat_mfcc['class']\n",
    "X_mfcc = X_mfcc.astype(float)\n",
    "\n",
    "X_train_mfcc, X_test_mfcc, y_train_mfcc, y_test_mfcc = train_test_split(X_mfcc, y_mfcc, test_size=0.2, stratify=y_mfcc, random_state = 42)\n",
    "\n",
    "X_train_mfcc.replace([np.inf, -np.inf], np.nan, inplace=True)\n",
    "X_train_mfcc.fillna(X_train_mfcc.mean(), inplace=True)\n",
    "X_train_mfcc = X_train_mfcc.loc[:, X_train_mfcc.nunique() > 1] \n",
    "X_train_mfcc = X_train_mfcc.astype(float)\n",
    "y_train_mfcc = y_train_mfcc.astype(int)\n",
    "\n",
    "scaler = StandardScaler()\n",
    "X_train_mfcc = scaler.fit_transform(X_train_mfcc)\n",
    "X_test_mfcc = scaler.transform(X_test_mfcc)"
   ]
  },
  {
   "cell_type": "code",
   "execution_count": 9,
   "metadata": {
    "execution": {
     "iopub.execute_input": "2025-04-16T05:30:21.507570Z",
     "iopub.status.busy": "2025-04-16T05:30:21.507368Z",
     "iopub.status.idle": "2025-04-16T05:30:40.112144Z",
     "shell.execute_reply": "2025-04-16T05:30:40.111227Z",
     "shell.execute_reply.started": "2025-04-16T05:30:21.507552Z"
    },
    "trusted": true
   },
   "outputs": [
    {
     "name": "stdout",
     "output_type": "stream",
     "text": [
      "Best parameters for original dataset:\n",
      "{'C': 10, 'gamma': 0.1, 'kernel': 'rbf'}\n"
     ]
    }
   ],
   "source": [
    "from sklearn.model_selection import GridSearchCV\n",
    "\n",
    "param_grid=[\n",
    "    {'C':[0.5,1,10,100, 1000],\n",
    "     'gamma':[10,1,0.1,0.001,0.00001, 0.000001],\n",
    "     'kernel':['rbf'],\n",
    "    }\n",
    "]\n",
    "\n",
    "optional_params=GridSearchCV(SVC(),param_grid,cv=5,scoring='accuracy',verbose=0)\n",
    "optional_params.fit(X_train_mfcc,y_train_mfcc)\n",
    "print(\"Best parameters for original dataset:\")\n",
    "print(optional_params.best_params_)"
   ]
  },
  {
   "cell_type": "code",
   "execution_count": 10,
   "metadata": {
    "execution": {
     "iopub.execute_input": "2025-04-16T05:30:40.113599Z",
     "iopub.status.busy": "2025-04-16T05:30:40.113320Z",
     "iopub.status.idle": "2025-04-16T05:30:40.295527Z",
     "shell.execute_reply": "2025-04-16T05:30:40.294895Z",
     "shell.execute_reply.started": "2025-04-16T05:30:40.113578Z"
    },
    "trusted": true
   },
   "outputs": [
    {
     "name": "stdout",
     "output_type": "stream",
     "text": [
      "98.25 % accuracy\n"
     ]
    }
   ],
   "source": [
    "model_mfcc = SVC(kernel='rbf', gamma=0.1, C=10)\n",
    "model_mfcc.fit(X_train_mfcc, y_train_mfcc)\n",
    "\n",
    "from sklearn.metrics import accuracy_score\n",
    "predictions = model_mfcc.predict(X_test_mfcc) \n",
    "print(100*accuracy_score(y_test_mfcc, predictions), \"% accuracy\")"
   ]
  },
  {
   "cell_type": "markdown",
   "metadata": {},
   "source": [
    "# Only Mel RCC (LPC-residual)"
   ]
  },
  {
   "cell_type": "markdown",
   "metadata": {},
   "source": [
    "https://www.researchgate.net/publication/272912634_Feature_Extraction_Using_LPC-Residual_and_MelFrequency_Cepstral_Coefficients_in_Forensic_Speaker_Recognition"
   ]
  },
  {
   "cell_type": "code",
   "execution_count": 11,
   "metadata": {
    "execution": {
     "iopub.execute_input": "2025-04-16T05:30:40.296647Z",
     "iopub.status.busy": "2025-04-16T05:30:40.296336Z",
     "iopub.status.idle": "2025-04-16T05:31:34.920564Z",
     "shell.execute_reply": "2025-04-16T05:31:34.919685Z",
     "shell.execute_reply.started": "2025-04-16T05:30:40.296602Z"
    },
    "trusted": true
   },
   "outputs": [
    {
     "name": "stderr",
     "output_type": "stream",
     "text": [
      " 30%|███       | 600/2000 [00:11<00:23, 60.35it/s]<ipython-input-11-9b59b4de6376>:19: UserWarning: PySoundFile failed. Trying audioread instead.\n",
      "  speech, fs = librosa.load(record['filename'])\n",
      "/usr/local/lib/python3.10/dist-packages/librosa/core/audio.py:184: FutureWarning: librosa.core.audio.__audioread_load\n",
      "\tDeprecated as of librosa version 0.10.0.\n",
      "\tIt will be removed in librosa version 1.0.\n",
      "  y, sr_native = __audioread_load(path, offset, duration, dtype)\n",
      " 30%|███       | 607/2000 [00:11<00:22, 62.06it/s]"
     ]
    },
    {
     "name": "stdout",
     "output_type": "stream",
     "text": [
      "Error processing /kaggle/input/dysarthria-detection/torgo_data/dysarthria_female/F01_Session1_0068.wav: \n"
     ]
    },
    {
     "name": "stderr",
     "output_type": "stream",
     "text": [
      " 78%|███████▊  | 1553/2000 [00:26<00:09, 48.43it/s]/usr/local/lib/python3.10/dist-packages/librosa/core/spectrum.py:266: UserWarning: n_fft=2048 is too large for input signal of length=209\n",
      "  warnings.warn(\n",
      " 78%|███████▊  | 1567/2000 [00:27<00:07, 55.36it/s]/usr/local/lib/python3.10/dist-packages/librosa/core/spectrum.py:266: UserWarning: n_fft=2048 is too large for input signal of length=583\n",
      "  warnings.warn(\n",
      " 80%|███████▉  | 1599/2000 [00:27<00:07, 55.65it/s]/usr/local/lib/python3.10/dist-packages/librosa/core/spectrum.py:266: UserWarning: n_fft=2048 is too large for input signal of length=581\n",
      "  warnings.warn(\n",
      " 83%|████████▎ | 1669/2000 [00:29<00:06, 51.20it/s]/usr/local/lib/python3.10/dist-packages/librosa/core/spectrum.py:266: UserWarning: n_fft=2048 is too large for input signal of length=185\n",
      "  warnings.warn(\n",
      " 85%|████████▍ | 1699/2000 [00:29<00:05, 50.50it/s]/usr/local/lib/python3.10/dist-packages/librosa/core/spectrum.py:266: UserWarning: n_fft=2048 is too large for input signal of length=946\n",
      "  warnings.warn(\n",
      " 92%|█████████▏| 1840/2000 [00:32<00:03, 45.33it/s]/usr/local/lib/python3.10/dist-packages/librosa/core/spectrum.py:266: UserWarning: n_fft=2048 is too large for input signal of length=214\n",
      "  warnings.warn(\n",
      "100%|██████████| 2000/2000 [00:36<00:00, 55.08it/s]\n",
      "<ipython-input-11-9b59b4de6376>:32: FutureWarning: Downcasting behavior in `replace` is deprecated and will be removed in a future version. To retain the old behavior, explicitly call `result.infer_objects(copy=False)`. To opt-in to the future behavior, set `pd.set_option('future.no_silent_downcasting', True)`\n",
      "  data_with_feat_rcc['class'] = data_with_feat_rcc['class'].replace('dysarthria', 1)\n",
      "<ipython-input-11-9b59b4de6376>:34: FutureWarning: Downcasting behavior in `replace` is deprecated and will be removed in a future version. To retain the old behavior, explicitly call `result.infer_objects(copy=False)`. To opt-in to the future behavior, set `pd.set_option('future.no_silent_downcasting', True)`\n",
      "  data_with_feat_rcc['gender'] = data_with_feat_rcc['gender'].replace('female', 0)\n"
     ]
    },
    {
     "name": "stdout",
     "output_type": "stream",
     "text": [
      "Best parameters for original dataset:\n",
      "{'C': 100, 'gamma': 0.001, 'kernel': 'rbf'}\n"
     ]
    }
   ],
   "source": [
    "from scipy import signal\n",
    "def lp_residual(signal_data, order=10):\n",
    "    preemphasized_signal = librosa.effects.preemphasis(signal_data)\n",
    "    a = librosa.lpc(preemphasized_signal, order=order)\n",
    "    residual = signal.lfilter([1] + -1 * a[1:].tolist(), [1], preemphasized_signal)\n",
    "    return residual\n",
    "\n",
    "def extract_rcc_features(signal_data, fs, n_rcc=52):\n",
    "    residual = lp_residual(signal_data)\n",
    "    # hilbert_transformed = np.abs(signal.hilbert(residual))\n",
    "    rccs = librosa.feature.mfcc(y=residual, sr=fs, n_mfcc=n_rcc)\n",
    "    return np.mean(rccs, axis=1)\n",
    "    \n",
    "\n",
    "def feature_extraction_only_rcc(df):\n",
    "    features = []\n",
    "    for i, record in tqdm(df.iterrows(), total=df.shape[0]):\n",
    "        try:\n",
    "            speech, fs = librosa.load(record['filename'])\n",
    "            rcc_features = extract_rcc_features(speech, fs)  # (52 features)\n",
    "            all_features = np.concatenate([rcc_features])\n",
    "            features.append(np.append(all_features, [record['is_dysarthria'], record['gender']]))  \n",
    "        except Exception as e:\n",
    "            print(f\"Error processing {record['filename']}: {e}\")\n",
    "    \n",
    "    column_names = (\n",
    "        [f\"RCC_{i}\" for i in range(52)] + ['class', 'gender'])\n",
    "    return pd.DataFrame(features, columns=column_names)\n",
    "\n",
    "data_with_feat_rcc = feature_extraction_only_rcc(df)\n",
    "data_with_feat_rcc['class'] = data_with_feat_rcc['class'].replace('non_dysarthria', 0)\n",
    "data_with_feat_rcc['class'] = data_with_feat_rcc['class'].replace('dysarthria', 1)\n",
    "data_with_feat_rcc['gender'] = data_with_feat_rcc['gender'].replace('male', 1)\n",
    "data_with_feat_rcc['gender'] = data_with_feat_rcc['gender'].replace('female', 0)\n",
    "\n",
    "X_rcc = data_with_feat_rcc.drop(columns=['class'])\n",
    "X_rcc.columns = X_rcc.columns.astype(str)\n",
    "y_rcc = data_with_feat_rcc['class']\n",
    "X_rcc = X_rcc.astype(float)\n",
    "\n",
    "X_train_rcc, X_test_rcc, y_train_rcc, y_test_rcc = train_test_split(X_rcc, y_rcc, test_size=0.2, stratify=y_rcc, random_state=42)\n",
    "\n",
    "X_train_rcc.replace([np.inf, -np.inf], np.nan, inplace=True)\n",
    "X_train_rcc.fillna(X_train_rcc.mean(), inplace=True)\n",
    "X_train_rcc = X_train_rcc.loc[:, X_train_rcc.nunique() > 1] \n",
    "X_train_rcc = X_train_rcc.astype(float)\n",
    "y_train_rcc = y_train_rcc.astype(int)\n",
    "\n",
    "\n",
    "# scaler = StandardScaler()\n",
    "# X_train_rcc = scaler.fit_transform(X_train_rcc)\n",
    "# X_test_rcc = scaler.transform(X_test_rcc)\n",
    "\n",
    "param_grid = [\n",
    "    {'C': [0.5, 1, 10, 100, 1000],\n",
    "     'gamma': [10, 1, 0.1, 0.001, 0.00001, 0.000001],\n",
    "     'kernel': ['rbf'],\n",
    "    }\n",
    "]\n",
    "\n",
    "optional_params = GridSearchCV(SVC(), param_grid, cv=5, scoring='accuracy', verbose=0)\n",
    "optional_params.fit(X_train_rcc, y_train_rcc)\n",
    "print(\"Best parameters for original dataset:\")\n",
    "print(optional_params.best_params_)"
   ]
  },
  {
   "cell_type": "code",
   "execution_count": 24,
   "metadata": {
    "execution": {
     "iopub.execute_input": "2025-04-03T15:30:47.714348Z",
     "iopub.status.busy": "2025-04-03T15:30:47.714065Z",
     "iopub.status.idle": "2025-04-03T15:30:47.823719Z",
     "shell.execute_reply": "2025-04-03T15:30:47.822798Z",
     "shell.execute_reply.started": "2025-04-03T15:30:47.714327Z"
    },
    "trusted": true
   },
   "outputs": [
    {
     "name": "stdout",
     "output_type": "stream",
     "text": [
      "98.5 % accuracy\n"
     ]
    }
   ],
   "source": [
    "model_rcc = SVC(kernel='rbf', gamma=1e-3, C=100)\n",
    "model_rcc.fit(X_train_rcc, y_train_rcc)\n",
    "\n",
    "from sklearn.metrics import accuracy_score\n",
    "predictions = model_rcc.predict(X_test_rcc)\n",
    "print(100 * accuracy_score(y_test_rcc, predictions), \"% accuracy\")"
   ]
  },
  {
   "cell_type": "markdown",
   "metadata": {},
   "source": [
    "# MFCC+Mel RCC (52+52)"
   ]
  },
  {
   "cell_type": "code",
   "execution_count": 12,
   "metadata": {
    "execution": {
     "iopub.execute_input": "2025-04-16T05:31:34.921810Z",
     "iopub.status.busy": "2025-04-16T05:31:34.921508Z",
     "iopub.status.idle": "2025-04-16T05:32:46.763504Z",
     "shell.execute_reply": "2025-04-16T05:32:46.762725Z",
     "shell.execute_reply.started": "2025-04-16T05:31:34.921773Z"
    },
    "trusted": true
   },
   "outputs": [
    {
     "name": "stderr",
     "output_type": "stream",
     "text": [
      " 30%|███       | 600/2000 [00:14<00:33, 41.83it/s]<ipython-input-12-42e72c829fb2>:20: UserWarning: PySoundFile failed. Trying audioread instead.\n",
      "  speech, fs = librosa.load(record['filename'])\n",
      "/usr/local/lib/python3.10/dist-packages/librosa/core/audio.py:184: FutureWarning: librosa.core.audio.__audioread_load\n",
      "\tDeprecated as of librosa version 0.10.0.\n",
      "\tIt will be removed in librosa version 1.0.\n",
      "  y, sr_native = __audioread_load(path, offset, duration, dtype)\n",
      " 30%|███       | 606/2000 [00:14<00:32, 43.37it/s]"
     ]
    },
    {
     "name": "stdout",
     "output_type": "stream",
     "text": [
      "Error processing /kaggle/input/dysarthria-detection/torgo_data/dysarthria_female/F01_Session1_0068.wav: \n"
     ]
    },
    {
     "name": "stderr",
     "output_type": "stream",
     "text": [
      " 78%|███████▊  | 1552/2000 [00:35<00:12, 35.92it/s]/usr/local/lib/python3.10/dist-packages/librosa/core/spectrum.py:266: UserWarning: n_fft=2048 is too large for input signal of length=209\n",
      "  warnings.warn(\n",
      " 78%|███████▊  | 1567/2000 [00:35<00:11, 38.61it/s]/usr/local/lib/python3.10/dist-packages/librosa/core/spectrum.py:266: UserWarning: n_fft=2048 is too large for input signal of length=583\n",
      "  warnings.warn(\n",
      " 80%|███████▉  | 1599/2000 [00:36<00:10, 37.96it/s]/usr/local/lib/python3.10/dist-packages/librosa/core/spectrum.py:266: UserWarning: n_fft=2048 is too large for input signal of length=581\n",
      "  warnings.warn(\n",
      " 84%|████████▎ | 1670/2000 [00:38<00:08, 38.14it/s]/usr/local/lib/python3.10/dist-packages/librosa/core/spectrum.py:266: UserWarning: n_fft=2048 is too large for input signal of length=185\n",
      "  warnings.warn(\n",
      " 85%|████████▌ | 1703/2000 [00:39<00:07, 38.72it/s]/usr/local/lib/python3.10/dist-packages/librosa/core/spectrum.py:266: UserWarning: n_fft=2048 is too large for input signal of length=946\n",
      "  warnings.warn(\n",
      " 92%|█████████▏| 1838/2000 [00:43<00:04, 35.63it/s]/usr/local/lib/python3.10/dist-packages/librosa/core/spectrum.py:266: UserWarning: n_fft=2048 is too large for input signal of length=214\n",
      "  warnings.warn(\n",
      "100%|██████████| 2000/2000 [00:48<00:00, 41.61it/s]\n",
      "<ipython-input-12-42e72c829fb2>:32: FutureWarning: Downcasting behavior in `replace` is deprecated and will be removed in a future version. To retain the old behavior, explicitly call `result.infer_objects(copy=False)`. To opt-in to the future behavior, set `pd.set_option('future.no_silent_downcasting', True)`\n",
      "  data_with_feat_mfcc_rcc['class'] = data_with_feat_mfcc_rcc['class'].replace('dysarthria', 1)\n",
      "<ipython-input-12-42e72c829fb2>:34: FutureWarning: Downcasting behavior in `replace` is deprecated and will be removed in a future version. To retain the old behavior, explicitly call `result.infer_objects(copy=False)`. To opt-in to the future behavior, set `pd.set_option('future.no_silent_downcasting', True)`\n",
      "  data_with_feat_mfcc_rcc['gender'] = data_with_feat_mfcc_rcc['gender'].replace('female', 0)\n"
     ]
    },
    {
     "name": "stdout",
     "output_type": "stream",
     "text": [
      "Best parameters for original dataset:\n",
      "{'C': 1000, 'gamma': 1e-05, 'kernel': 'rbf'}\n"
     ]
    }
   ],
   "source": [
    "from scipy import signal\n",
    "def lp_residual(signal_data, order=10):\n",
    "    preemphasized_signal = librosa.effects.preemphasis(signal_data)\n",
    "    a = librosa.lpc(preemphasized_signal, order=order)\n",
    "    residual = signal.lfilter([1] + -1 * a[1:].tolist(), [1], preemphasized_signal)\n",
    "    return residual\n",
    "\n",
    "def extract_mfcc_rcc_features(signal_data, fs, n_mfcc=52, n_rcc=52):\n",
    "    preemphasized_signal = librosa.effects.preemphasis(signal_data)\n",
    "    mfccs = librosa.feature.mfcc(y=preemphasized_signal, sr=fs, n_mfcc=n_mfcc)\n",
    "    residual = lp_residual(signal_data)\n",
    "    # hilbert_transformed = np.abs(signal.hilbert(residual))\n",
    "    rccs = librosa.feature.mfcc(y=residual, sr=fs, n_mfcc=n_rcc)\n",
    "    return np.concatenate([np.mean(mfccs, axis=1), np.mean(rccs, axis=1)])\n",
    "\n",
    "def feature_extraction_mfcc_rcc(df, n_mfcc=52, n_rcc=52):\n",
    "    features = []\n",
    "    for i, record in tqdm(df.iterrows(), total=df.shape[0]):\n",
    "        try:\n",
    "            speech, fs = librosa.load(record['filename'])\n",
    "            combined_features = extract_mfcc_rcc_features(speech, fs, n_mfcc, n_rcc)\n",
    "            features.append(np.append(combined_features, [record['is_dysarthria'], record['gender']]))  \n",
    "        except Exception as e:\n",
    "            print(f\"Error processing {record['filename']}: {e}\")\n",
    "    \n",
    "    column_names = (\n",
    "        [f\"MFCC_{i}\" for i in range(n_mfcc)] + [f\"RCC_{i}\" for i in range(n_rcc)] + ['class', 'gender'])\n",
    "    return pd.DataFrame(features, columns=column_names)\n",
    "\n",
    "data_with_feat_mfcc_rcc = feature_extraction_mfcc_rcc(df, n_mfcc=52, n_rcc=52)\n",
    "data_with_feat_mfcc_rcc['class'] = data_with_feat_mfcc_rcc['class'].replace('non_dysarthria', 0)\n",
    "data_with_feat_mfcc_rcc['class'] = data_with_feat_mfcc_rcc['class'].replace('dysarthria', 1)\n",
    "data_with_feat_mfcc_rcc['gender'] = data_with_feat_mfcc_rcc['gender'].replace('male', 1)\n",
    "data_with_feat_mfcc_rcc['gender'] = data_with_feat_mfcc_rcc['gender'].replace('female', 0)\n",
    "\n",
    "X_mfcc_rcc = data_with_feat_mfcc_rcc.drop(columns=['class'])\n",
    "X_mfcc_rcc.columns = X_mfcc_rcc.columns.astype(str)\n",
    "y_mfcc_rcc = data_with_feat_mfcc_rcc['class']\n",
    "X_mfcc_rcc = X_mfcc_rcc.astype(float)\n",
    "\n",
    "X_train_mfcc_rcc, X_test_mfcc_rcc, y_train_mfcc_rcc, y_test_mfcc_rcc = train_test_split(X_mfcc_rcc, y_mfcc_rcc, test_size=0.2, stratify=y_mfcc_rcc, random_state=42)\n",
    "\n",
    "X_train_mfcc_rcc.replace([np.inf, -np.inf], np.nan, inplace=True)\n",
    "X_train_mfcc_rcc.fillna(X_train_mfcc_rcc.mean(), inplace=True)\n",
    "X_train_mfcc_rcc = X_train_mfcc_rcc.loc[:, X_train_mfcc_rcc.nunique() > 1] \n",
    "X_train_mfcc_rcc = X_train_mfcc_rcc.astype(float)\n",
    "y_train_mfcc_rcc = y_train_mfcc_rcc.astype(int)\n",
    "\n",
    "# scaler = StandardScaler()\n",
    "# X_train_mfcc_rcc = scaler.fit_transform(X_train_mfcc_rcc)\n",
    "# X_test_mfcc_rcc = scaler.transform(X_test_mfcc_rcc)\n",
    "\n",
    "\n",
    "param_grid = [\n",
    "    {'C': [0.5, 1, 10, 100, 1000],\n",
    "     'gamma': [10, 1, 0.1, 0.001, 0.00001, 0.000001],\n",
    "     'kernel': ['rbf'],\n",
    "    }\n",
    "]\n",
    "\n",
    "optional_params = GridSearchCV(SVC(), param_grid, cv=5, scoring='accuracy', verbose=0)\n",
    "optional_params.fit(X_train_mfcc_rcc, y_train_mfcc_rcc)\n",
    "print(\"Best parameters for original dataset:\")\n",
    "print(optional_params.best_params_)"
   ]
  },
  {
   "cell_type": "code",
   "execution_count": 16,
   "metadata": {
    "execution": {
     "iopub.execute_input": "2025-04-03T15:26:39.074405Z",
     "iopub.status.busy": "2025-04-03T15:26:39.074137Z",
     "iopub.status.idle": "2025-04-03T15:26:39.183212Z",
     "shell.execute_reply": "2025-04-03T15:26:39.182267Z",
     "shell.execute_reply.started": "2025-04-03T15:26:39.074384Z"
    },
    "trusted": true
   },
   "outputs": [
    {
     "name": "stdout",
     "output_type": "stream",
     "text": [
      "98.25 % accuracy\n"
     ]
    }
   ],
   "source": [
    "model_mfcc_rcc = SVC(kernel='rbf', gamma=1e-5, C=1000)\n",
    "model_mfcc_rcc.fit(X_train_mfcc_rcc, y_train_mfcc_rcc)\n",
    "\n",
    "predictions = model_mfcc_rcc.predict(X_test_mfcc_rcc)\n",
    "print(100 * accuracy_score(y_test_mfcc_rcc, predictions), \"% accuracy\")"
   ]
  },
  {
   "cell_type": "markdown",
   "metadata": {},
   "source": [
    "# Linear RCCs\n",
    "Reference: https://dl.acm.org/doi/10.1007/978-3-031-78498-9_22"
   ]
  },
  {
   "cell_type": "code",
   "execution_count": 13,
   "metadata": {
    "execution": {
     "iopub.execute_input": "2025-04-16T05:32:46.764890Z",
     "iopub.status.busy": "2025-04-16T05:32:46.764545Z",
     "iopub.status.idle": "2025-04-16T05:33:24.646645Z",
     "shell.execute_reply": "2025-04-16T05:33:24.645877Z",
     "shell.execute_reply.started": "2025-04-16T05:32:46.764851Z"
    },
    "trusted": true
   },
   "outputs": [
    {
     "name": "stderr",
     "output_type": "stream",
     "text": [
      " 30%|██▉       | 599/2000 [00:10<00:28, 48.68it/s]<ipython-input-13-2eab24ba9f43>:29: UserWarning: PySoundFile failed. Trying audioread instead.\n",
      "  speech, fs = librosa.load(record['filename'])\n",
      "/usr/local/lib/python3.10/dist-packages/librosa/core/audio.py:184: FutureWarning: librosa.core.audio.__audioread_load\n",
      "\tDeprecated as of librosa version 0.10.0.\n",
      "\tIt will be removed in librosa version 1.0.\n",
      "  y, sr_native = __audioread_load(path, offset, duration, dtype)\n",
      " 30%|███       | 607/2000 [00:10<00:25, 54.49it/s]"
     ]
    },
    {
     "name": "stdout",
     "output_type": "stream",
     "text": [
      "Error processing /kaggle/input/dysarthria-detection/torgo_data/dysarthria_female/F01_Session1_0068.wav: \n"
     ]
    },
    {
     "name": "stderr",
     "output_type": "stream",
     "text": [
      "100%|██████████| 2000/2000 [00:37<00:00, 52.88it/s]\n"
     ]
    }
   ],
   "source": [
    "from scipy.fftpack import dct\n",
    "\n",
    "def lp_residual(signal_data, order=10):\n",
    "    preemphasized_signal = librosa.effects.preemphasis(signal_data)\n",
    "    a = librosa.lpc(preemphasized_signal, order=order)\n",
    "    residual = signal.lfilter([1] + -1 * a[1:].tolist(), [1], preemphasized_signal)\n",
    "    return residual\n",
    "\n",
    "def extract_linear_lrcc(signal_data, fs, n_lrcc=52, n_filters=52):\n",
    "    residual = lp_residual(signal_data)\n",
    "    spectrum = np.abs(np.fft.rfft(residual))\n",
    "    freqs = np.linspace(0, fs / 2, n_filters + 2)  # Linear spaced frequencies\n",
    "    bins = np.floor((len(spectrum) - 1) * freqs / (fs / 2)).astype(int)\n",
    "    \n",
    "    filterbank = np.zeros((n_filters, len(spectrum)))\n",
    "    for i in range(1, n_filters + 1):\n",
    "        filterbank[i - 1, bins[i - 1]: bins[i]] = np.linspace(0, 1, bins[i] - bins[i - 1])\n",
    "        filterbank[i - 1, bins[i]: bins[i + 1]] = np.linspace(1, 0, bins[i + 1] - bins[i])  \n",
    "    filtered_spectrum = np.dot(filterbank, spectrum[:len(spectrum)])\n",
    "    log_spectrum = np.log1p(filtered_spectrum)\n",
    "    lrccs = dct(log_spectrum, type=2, norm='ortho')[:n_lrcc]\n",
    "    \n",
    "    return lrccs\n",
    "\n",
    "def feature_extraction_only_lrcc(df):\n",
    "    features = []\n",
    "    for i, record in tqdm(df.iterrows(), total=df.shape[0]):\n",
    "        try:\n",
    "            speech, fs = librosa.load(record['filename'])\n",
    "            lrcc_features = extract_linear_lrcc(speech, fs)  # Extract linear lrccs\n",
    "            all_features = np.concatenate([lrcc_features])\n",
    "            features.append(np.append(all_features, [record['is_dysarthria'], record['gender']]))  \n",
    "        except Exception as e:\n",
    "            print(f\"Error processing {record['filename']}: {e}\")\n",
    "    \n",
    "    column_names = [f\"lrcc_{i}\" for i in range(52)] + ['class', 'gender']\n",
    "    return pd.DataFrame(features, columns=column_names)\n",
    "\n",
    "data_with_feat_lrcc = feature_extraction_only_lrcc(df)\n"
   ]
  },
  {
   "cell_type": "code",
   "execution_count": 14,
   "metadata": {
    "execution": {
     "iopub.execute_input": "2025-04-16T05:33:24.648605Z",
     "iopub.status.busy": "2025-04-16T05:33:24.648384Z",
     "iopub.status.idle": "2025-04-16T05:33:47.316462Z",
     "shell.execute_reply": "2025-04-16T05:33:47.315553Z",
     "shell.execute_reply.started": "2025-04-16T05:33:24.648584Z"
    },
    "trusted": true
   },
   "outputs": [
    {
     "name": "stderr",
     "output_type": "stream",
     "text": [
      "<ipython-input-14-81f690dc58a7>:2: FutureWarning: Downcasting behavior in `replace` is deprecated and will be removed in a future version. To retain the old behavior, explicitly call `result.infer_objects(copy=False)`. To opt-in to the future behavior, set `pd.set_option('future.no_silent_downcasting', True)`\n",
      "  data_with_feat_lrcc['class'] = data_with_feat_lrcc['class'].replace('dysarthria', 1)\n",
      "<ipython-input-14-81f690dc58a7>:4: FutureWarning: Downcasting behavior in `replace` is deprecated and will be removed in a future version. To retain the old behavior, explicitly call `result.infer_objects(copy=False)`. To opt-in to the future behavior, set `pd.set_option('future.no_silent_downcasting', True)`\n",
      "  data_with_feat_lrcc['gender'] = data_with_feat_lrcc['gender'].replace('female', 0)\n"
     ]
    },
    {
     "name": "stdout",
     "output_type": "stream",
     "text": [
      "Best parameters for original dataset:\n",
      "{'C': 1000, 'gamma': 0.001, 'kernel': 'rbf'}\n"
     ]
    }
   ],
   "source": [
    "data_with_feat_lrcc['class'] = data_with_feat_lrcc['class'].replace('non_dysarthria', 0)\n",
    "data_with_feat_lrcc['class'] = data_with_feat_lrcc['class'].replace('dysarthria', 1)\n",
    "data_with_feat_lrcc['gender'] = data_with_feat_lrcc['gender'].replace('male', 1)\n",
    "data_with_feat_lrcc['gender'] = data_with_feat_lrcc['gender'].replace('female', 0)\n",
    "\n",
    "X_lrcc = data_with_feat_lrcc.drop(columns=['class'])\n",
    "X_lrcc.columns = X_lrcc.columns.astype(str)\n",
    "y_lrcc = data_with_feat_lrcc['class']\n",
    "X_lrcc = X_lrcc.astype(float)\n",
    "\n",
    "X_train_lrcc, X_test_lrcc, y_train_lrcc, y_test_lrcc = train_test_split(X_lrcc, y_lrcc, test_size=0.2, stratify=y_lrcc, random_state=42)\n",
    "\n",
    "X_train_lrcc.replace([np.inf, -np.inf], np.nan, inplace=True)\n",
    "X_train_lrcc.fillna(X_train_lrcc.mean(), inplace=True)\n",
    "X_train_lrcc = X_train_lrcc.loc[:, X_train_lrcc.nunique() > 1] \n",
    "X_train_lrcc = X_train_lrcc.astype(float)\n",
    "y_train_lrcc = y_train_lrcc.astype(int)\n",
    "\n",
    "# scaler = StandardScaler()\n",
    "# X_train_lrcc = scaler.fit_transform(X_train_lrcc)\n",
    "# X_test_lrcc = scaler.transform(X_test_lrcc)\n",
    "\n",
    "\n",
    "param_grid = [\n",
    "    {'C': [0.5, 1, 10, 100, 1000],\n",
    "     'gamma': [10, 1, 0.1, 0.001, 0.00001, 0.000001],\n",
    "     'kernel': ['rbf'],\n",
    "    }\n",
    "]\n",
    "\n",
    "optional_params = GridSearchCV(SVC(), param_grid, cv=5, scoring='accuracy', verbose=0)\n",
    "optional_params.fit(X_train_lrcc, y_train_lrcc)\n",
    "print(\"Best parameters for original dataset:\")\n",
    "print(optional_params.best_params_)\n",
    "\n"
   ]
  },
  {
   "cell_type": "code",
   "execution_count": 23,
   "metadata": {
    "execution": {
     "iopub.execute_input": "2025-04-03T15:30:25.732435Z",
     "iopub.status.busy": "2025-04-03T15:30:25.732143Z",
     "iopub.status.idle": "2025-04-03T15:30:26.051086Z",
     "shell.execute_reply": "2025-04-03T15:30:26.050190Z",
     "shell.execute_reply.started": "2025-04-03T15:30:25.732414Z"
    },
    "trusted": true
   },
   "outputs": [
    {
     "name": "stdout",
     "output_type": "stream",
     "text": [
      "87.25 % accuracy\n"
     ]
    }
   ],
   "source": [
    "model_lrcc = SVC(kernel='rbf', gamma=0.001, C=1000)\n",
    "model_lrcc.fit(X_train_lrcc, y_train_lrcc)\n",
    "\n",
    "from sklearn.metrics import accuracy_score\n",
    "predictions = model_lrcc.predict(X_test_lrcc)\n",
    "print(100 * accuracy_score(y_test_lrcc, predictions), \"% accuracy\")"
   ]
  },
  {
   "cell_type": "markdown",
   "metadata": {},
   "source": [
    "### Why Mel RCCs perform better than linear RCCs\n",
    "\n",
    "**Mel Scaling Captures Speech Better** - Speech perception is logarithmic, and the Mel scale emphasizes lower frequencies, which are more crucial for speech intelligibility.\n",
    "\n",
    "**Better Feature Separation** - In dysarthria detection, the lower formants and excitation signals are crucial, and Mel filtering may enhance this."
   ]
  },
  {
   "cell_type": "markdown",
   "metadata": {},
   "source": [
    "\n",
    "# Linear RCC + MFCC"
   ]
  },
  {
   "cell_type": "code",
   "execution_count": 16,
   "metadata": {
    "execution": {
     "iopub.execute_input": "2025-04-16T05:35:25.945700Z",
     "iopub.status.busy": "2025-04-16T05:35:25.945337Z",
     "iopub.status.idle": "2025-04-16T05:36:42.379665Z",
     "shell.execute_reply": "2025-04-16T05:36:42.378708Z",
     "shell.execute_reply.started": "2025-04-16T05:35:25.945663Z"
    },
    "trusted": true
   },
   "outputs": [
    {
     "name": "stderr",
     "output_type": "stream",
     "text": [
      " 30%|██▉       | 599/2000 [00:15<00:35, 39.01it/s]<ipython-input-16-750661723217>:5: UserWarning: PySoundFile failed. Trying audioread instead.\n",
      "  speech, fs = librosa.load(record['filename'])\n",
      "/usr/local/lib/python3.10/dist-packages/librosa/core/audio.py:184: FutureWarning: librosa.core.audio.__audioread_load\n",
      "\tDeprecated as of librosa version 0.10.0.\n",
      "\tIt will be removed in librosa version 1.0.\n",
      "  y, sr_native = __audioread_load(path, offset, duration, dtype)\n",
      " 30%|███       | 604/2000 [00:15<00:33, 41.75it/s]"
     ]
    },
    {
     "name": "stdout",
     "output_type": "stream",
     "text": [
      "Error processing /kaggle/input/dysarthria-detection/torgo_data/dysarthria_female/F01_Session1_0068.wav: \n"
     ]
    },
    {
     "name": "stderr",
     "output_type": "stream",
     "text": [
      " 78%|███████▊  | 1554/2000 [00:38<00:13, 32.22it/s]/usr/local/lib/python3.10/dist-packages/librosa/core/spectrum.py:266: UserWarning: n_fft=2048 is too large for input signal of length=209\n",
      "  warnings.warn(\n",
      " 78%|███████▊  | 1568/2000 [00:38<00:11, 36.76it/s]/usr/local/lib/python3.10/dist-packages/librosa/core/spectrum.py:266: UserWarning: n_fft=2048 is too large for input signal of length=583\n",
      "  warnings.warn(\n",
      " 80%|███████▉  | 1599/2000 [00:39<00:12, 32.98it/s]/usr/local/lib/python3.10/dist-packages/librosa/core/spectrum.py:266: UserWarning: n_fft=2048 is too large for input signal of length=581\n",
      "  warnings.warn(\n",
      " 84%|████████▎ | 1671/2000 [00:42<00:09, 33.56it/s]/usr/local/lib/python3.10/dist-packages/librosa/core/spectrum.py:266: UserWarning: n_fft=2048 is too large for input signal of length=185\n",
      "  warnings.warn(\n",
      " 85%|████████▌ | 1700/2000 [00:42<00:10, 29.65it/s]/usr/local/lib/python3.10/dist-packages/librosa/core/spectrum.py:266: UserWarning: n_fft=2048 is too large for input signal of length=946\n",
      "  warnings.warn(\n",
      " 92%|█████████▏| 1840/2000 [00:47<00:05, 27.52it/s]/usr/local/lib/python3.10/dist-packages/librosa/core/spectrum.py:266: UserWarning: n_fft=2048 is too large for input signal of length=214\n",
      "  warnings.warn(\n",
      "100%|██████████| 2000/2000 [00:52<00:00, 37.78it/s]\n",
      "<ipython-input-16-750661723217>:20: FutureWarning: Downcasting behavior in `replace` is deprecated and will be removed in a future version. To retain the old behavior, explicitly call `result.infer_objects(copy=False)`. To opt-in to the future behavior, set `pd.set_option('future.no_silent_downcasting', True)`\n",
      "  data_with_feat_mfcc_lrcc['class'] = data_with_feat_mfcc_lrcc['class'].replace('dysarthria', 1)\n",
      "<ipython-input-16-750661723217>:22: FutureWarning: Downcasting behavior in `replace` is deprecated and will be removed in a future version. To retain the old behavior, explicitly call `result.infer_objects(copy=False)`. To opt-in to the future behavior, set `pd.set_option('future.no_silent_downcasting', True)`\n",
      "  data_with_feat_mfcc_lrcc['gender'] = data_with_feat_mfcc_lrcc['gender'].replace('female', 0)\n"
     ]
    },
    {
     "name": "stdout",
     "output_type": "stream",
     "text": [
      "Best parameters for original dataset:\n",
      "{'C': 100, 'gamma': 0.001, 'kernel': 'rbf'}\n"
     ]
    }
   ],
   "source": [
    "def feature_extraction_mfcc_lrcc(df, n_mfcc=52, n_lrcc=52):\n",
    "    features = []\n",
    "    for i, record in tqdm(df.iterrows(), total=df.shape[0]):\n",
    "        try:\n",
    "            speech, fs = librosa.load(record['filename'])\n",
    "            lrcc_features = extract_linear_lrcc(speech, fs,  n_lrcc=n_lrcc, n_filters=n_lrcc)  \n",
    "            preemphasized_signal = librosa.effects.preemphasis(speech)\n",
    "            mfccs = librosa.feature.mfcc(y=preemphasized_signal, sr=fs, n_mfcc=n_mfcc)\n",
    "            combined_features = np.concatenate([np.mean(mfccs, axis=1), lrcc_features])\n",
    "            features.append(np.append(combined_features, [record['is_dysarthria'], record['gender']]))  \n",
    "        except Exception as e:\n",
    "            print(f\"Error processing {record['filename']}: {e}\")\n",
    "    \n",
    "    column_names = (\n",
    "        [f\"MFCC_{i}\" for i in range(n_mfcc)] + [f\"lrcc_{i}\" for i in range(n_lrcc)] + ['class', 'gender'])\n",
    "    return pd.DataFrame(features, columns=column_names)\n",
    "\n",
    "data_with_feat_mfcc_lrcc = feature_extraction_mfcc_lrcc(df, n_mfcc=52, n_lrcc=52)\n",
    "data_with_feat_mfcc_lrcc['class'] = data_with_feat_mfcc_lrcc['class'].replace('non_dysarthria', 0)\n",
    "data_with_feat_mfcc_lrcc['class'] = data_with_feat_mfcc_lrcc['class'].replace('dysarthria', 1)\n",
    "data_with_feat_mfcc_lrcc['gender'] = data_with_feat_mfcc_lrcc['gender'].replace('male', 1)\n",
    "data_with_feat_mfcc_lrcc['gender'] = data_with_feat_mfcc_lrcc['gender'].replace('female', 0)\n",
    "\n",
    "X_mfcc_lrcc = data_with_feat_mfcc_lrcc.drop(columns=['class'])\n",
    "X_mfcc_lrcc.columns = X_mfcc_lrcc.columns.astype(str)\n",
    "y_mfcc_lrcc = data_with_feat_mfcc_lrcc['class']\n",
    "X_mfcc_lrcc = X_mfcc_lrcc.astype(float)\n",
    "\n",
    "X_train_mfcc_lrcc, X_test_mfcc_lrcc, y_train_mfcc_lrcc, y_test_mfcc_lrcc = train_test_split(X_mfcc_lrcc, y_mfcc_lrcc, test_size=0.2, stratify=y_mfcc_lrcc, random_state=42)\n",
    "\n",
    "X_train_mfcc_lrcc.replace([np.inf, -np.inf], np.nan, inplace=True)\n",
    "X_train_mfcc_lrcc.fillna(X_train_mfcc_lrcc.mean(), inplace=True)\n",
    "X_train_mfcc_lrcc = X_train_mfcc_lrcc.loc[:, X_train_mfcc_lrcc.nunique() > 1] \n",
    "X_train_mfcc_lrcc = X_train_mfcc_lrcc.astype(float)\n",
    "y_train_mfcc_lrcc = y_train_mfcc_lrcc.astype(int)\n",
    "\n",
    "# scaler = StandardScaler()\n",
    "# X_train_mfcc_lrcc = scaler.fit_transform(X_train_mfcc_lrcc)\n",
    "# X_test_mfcc_lrcc = scaler.transform(X_test_mfcc_lrcc)\n",
    "\n",
    "\n",
    "\n",
    "param_grid = [\n",
    "    {'C': [0.5, 1, 10, 100, 1000],\n",
    "     'gamma': [10, 1, 0.1, 0.001, 0.00001, 0.000001],\n",
    "     'kernel': ['rbf'],\n",
    "    }\n",
    "]\n",
    "\n",
    "optional_params = GridSearchCV(SVC(), param_grid, cv=5, scoring='accuracy', verbose=0)\n",
    "optional_params.fit(X_train_mfcc_lrcc, y_train_mfcc_lrcc)\n",
    "print(\"Best parameters for original dataset:\")\n",
    "print(optional_params.best_params_)"
   ]
  },
  {
   "cell_type": "code",
   "execution_count": 17,
   "metadata": {
    "execution": {
     "iopub.execute_input": "2025-04-16T05:36:42.381185Z",
     "iopub.status.busy": "2025-04-16T05:36:42.380886Z",
     "iopub.status.idle": "2025-04-16T05:36:42.531776Z",
     "shell.execute_reply": "2025-04-16T05:36:42.531041Z",
     "shell.execute_reply.started": "2025-04-16T05:36:42.381161Z"
    },
    "trusted": true
   },
   "outputs": [
    {
     "name": "stdout",
     "output_type": "stream",
     "text": [
      "98.5 % accuracy\n"
     ]
    }
   ],
   "source": [
    "model_mfcc_lrcc = SVC(kernel='rbf', gamma=0.001, C=100)\n",
    "model_mfcc_lrcc.fit(X_train_mfcc_lrcc, y_train_mfcc_lrcc)\n",
    "\n",
    "predictions = model_mfcc_lrcc.predict(X_test_mfcc_lrcc)\n",
    "print(100 * accuracy_score(y_test_mfcc_lrcc, predictions), \"% accuracy\")"
   ]
  },
  {
   "cell_type": "markdown",
   "metadata": {},
   "source": [
    "## Higher order relations among LP residual samples"
   ]
  },
  {
   "cell_type": "code",
   "execution_count": 20,
   "metadata": {
    "execution": {
     "iopub.execute_input": "2025-04-16T05:36:52.343703Z",
     "iopub.status.busy": "2025-04-16T05:36:52.343272Z",
     "iopub.status.idle": "2025-04-16T05:36:52.354665Z",
     "shell.execute_reply": "2025-04-16T05:36:52.353825Z",
     "shell.execute_reply.started": "2025-04-16T05:36:52.343665Z"
    },
    "trusted": true
   },
   "outputs": [],
   "source": [
    "from scipy.stats import skew, kurtosis\n",
    "\n",
    "def lp_residual(signal_data, order=10):\n",
    "    preemphasized_signal = librosa.effects.preemphasis(signal_data)\n",
    "    a = librosa.lpc(preemphasized_signal, order=order)\n",
    "    residual = signal.lfilter([1] + -1 * a[1:].tolist(), [1], preemphasized_signal)\n",
    "    return residual\n",
    "\n",
    "def extract_lp_residual_features(signal_data, sr):\n",
    "    residual = lp_residual(signal_data)\n",
    "\n",
    "    # Higher-order statistics\n",
    "    skewness = skew(residual)\n",
    "    kurt_val = kurtosis(residual)\n",
    "    entropy = -np.sum((residual**2) * np.log(residual**2 + 1e-10))\n",
    "\n",
    "    # Phase-based features from Hilbert transform\n",
    "    analytic_signal = hilbert(residual)\n",
    "    instantaneous_phase = np.unwrap(np.angle(analytic_signal))\n",
    "    phase_mean = np.mean(instantaneous_phase)\n",
    "    phase_std = np.std(instantaneous_phase)\n",
    "\n",
    "    return np.array([skewness, kurt_val, entropy, phase_mean, phase_std])\n",
    "\n",
    "def feature_extraction_lp_residual(df):\n",
    "    features = []\n",
    "    for i, record in tqdm(df.iterrows(), total=df.shape[0]):\n",
    "        try:\n",
    "            speech, sr = librosa.load(record['filename'], sr=None)\n",
    "            lp_features = extract_lp_residual_features(speech, sr)  # (5 features)\n",
    "            all_features = np.concatenate([lp_features])\n",
    "            features.append(np.append(all_features, [record['is_dysarthria'], record['gender']]))\n",
    "        except Exception as e:\n",
    "            print(f\"Error processing {record['filename']}: {e}\")\n",
    "\n",
    "    column_names = [f\"LP_{i}\" for i in range(5)] + ['class', 'gender']\n",
    "    return pd.DataFrame(features, columns=column_names)\n"
   ]
  },
  {
   "cell_type": "code",
   "execution_count": 26,
   "metadata": {
    "execution": {
     "iopub.execute_input": "2025-04-16T05:49:12.138774Z",
     "iopub.status.busy": "2025-04-16T05:49:12.138440Z",
     "iopub.status.idle": "2025-04-16T05:50:12.019355Z",
     "shell.execute_reply": "2025-04-16T05:50:12.018613Z",
     "shell.execute_reply.started": "2025-04-16T05:49:12.138744Z"
    },
    "trusted": true
   },
   "outputs": [
    {
     "name": "stderr",
     "output_type": "stream",
     "text": [
      " 30%|███       | 600/2000 [00:10<00:25, 55.36it/s]<ipython-input-20-8c60aefcdf6c>:29: UserWarning: PySoundFile failed. Trying audioread instead.\n",
      "  speech, sr = librosa.load(record['filename'], sr=None)\n",
      "/usr/local/lib/python3.10/dist-packages/librosa/core/audio.py:184: FutureWarning: librosa.core.audio.__audioread_load\n",
      "\tDeprecated as of librosa version 0.10.0.\n",
      "\tIt will be removed in librosa version 1.0.\n",
      "  y, sr_native = __audioread_load(path, offset, duration, dtype)\n",
      " 30%|███       | 607/2000 [00:10<00:23, 58.90it/s]"
     ]
    },
    {
     "name": "stdout",
     "output_type": "stream",
     "text": [
      "Error processing /kaggle/input/dysarthria-detection/torgo_data/dysarthria_female/F01_Session1_0068.wav: \n"
     ]
    },
    {
     "name": "stderr",
     "output_type": "stream",
     "text": [
      "100%|██████████| 2000/2000 [00:37<00:00, 53.15it/s]\n",
      "<ipython-input-26-5fb4b2bee1ab>:3: FutureWarning: Downcasting behavior in `replace` is deprecated and will be removed in a future version. To retain the old behavior, explicitly call `result.infer_objects(copy=False)`. To opt-in to the future behavior, set `pd.set_option('future.no_silent_downcasting', True)`\n",
      "  data_with_feat_lpff['class'] = data_with_feat_lpff['class'].replace('dysarthria', 1)\n",
      "<ipython-input-26-5fb4b2bee1ab>:5: FutureWarning: Downcasting behavior in `replace` is deprecated and will be removed in a future version. To retain the old behavior, explicitly call `result.infer_objects(copy=False)`. To opt-in to the future behavior, set `pd.set_option('future.no_silent_downcasting', True)`\n",
      "  data_with_feat_lpff['gender'] = data_with_feat_lpff['gender'].replace('female', 0)\n"
     ]
    },
    {
     "name": "stdout",
     "output_type": "stream",
     "text": [
      "Best parameters for original dataset:\n",
      "{'C': 10, 'gamma': 1e-06, 'kernel': 'rbf'}\n"
     ]
    }
   ],
   "source": [
    "data_with_feat_lpff = feature_extraction_lp_residual(df)\n",
    "data_with_feat_lpff['class'] = data_with_feat_lpff['class'].replace('non_dysarthria', 0)\n",
    "data_with_feat_lpff['class'] = data_with_feat_lpff['class'].replace('dysarthria', 1)\n",
    "data_with_feat_lpff['gender'] = data_with_feat_lpff['gender'].replace('male', 1)\n",
    "data_with_feat_lpff['gender'] = data_with_feat_lpff['gender'].replace('female', 0)\n",
    "\n",
    "X_lpff = data_with_feat_lpff.drop(columns=['class'])\n",
    "X_lpff.columns = X_lpff.columns.astype(str)\n",
    "y_lpff = data_with_feat_lpff['class']\n",
    "X_lpff = X_lpff.astype(float)\n",
    "\n",
    "X_train_lpff, X_test_lpff, y_train_lpff, y_test_lpff = train_test_split(X_lpff, y_lpff, test_size=0.2, stratify=y_lpff, random_state=42)\n",
    "\n",
    "X_train_lpff.replace([np.inf, -np.inf], np.nan, inplace=Traue)\n",
    "X_train_lpff.fillna(X_train_lpff.mean(), inplace=True)\n",
    "# X_train_lpff = X_train_lpff.loc[:, X_train_lpff.nunique() > 1] \n",
    "X_train_lpff = X_train_lpff.astype(float)\n",
    "y_train_lpff = y_train_lpff.astype(int)\n",
    "\n",
    "param_grid = [\n",
    "    {'C': [0.5, 1, 10, 100, 1000],\n",
    "     'gamma': [10, 1, 0.1, 0.001, 0.00001, 0.000001],\n",
    "     'kernel': ['rbf'],\n",
    "    }\n",
    "]\n",
    "\n",
    "optional_params = GridSearchCV(SVC(), param_grid, cv=5, scoring='accuracy', verbose=0)\n",
    "optional_params.fit(X_train_lpff, y_train_lpff)\n",
    "print(\"Best parameters for original dataset:\")\n",
    "print(optional_params.best_params_)\n"
   ]
  },
  {
   "cell_type": "code",
   "execution_count": 27,
   "metadata": {
    "execution": {
     "iopub.execute_input": "2025-04-16T05:50:12.020873Z",
     "iopub.status.busy": "2025-04-16T05:50:12.020527Z",
     "iopub.status.idle": "2025-04-16T05:50:12.208123Z",
     "shell.execute_reply": "2025-04-16T05:50:12.207451Z",
     "shell.execute_reply.started": "2025-04-16T05:50:12.020838Z"
    },
    "trusted": true
   },
   "outputs": [
    {
     "name": "stdout",
     "output_type": "stream",
     "text": [
      "62.0 % accuracy\n"
     ]
    }
   ],
   "source": [
    "model_lpff = SVC(kernel='rbf', gamma=1e-6, C=10)\n",
    "model_lpff.fit(X_train_lpff, y_train_lpff)\n",
    "\n",
    "from sklearn.metrics import accuracy_score\n",
    "predictions = model_lpff.predict(X_test_lpff)\n",
    "print(100 * accuracy_score(y_test_lpff, predictions), \"% accuracy\")"
   ]
  },
  {
   "cell_type": "markdown",
   "metadata": {},
   "source": [
    "https://www.researchgate.net/publication/271891059_Recognition_of_Emotions_from_Speech_using_Excitation_Source_Features"
   ]
  }
 ],
 "metadata": {
  "kaggle": {
   "accelerator": "nvidiaTeslaT4",
   "dataSources": [
    {
     "datasetId": 2394508,
     "sourceId": 4042447,
     "sourceType": "datasetVersion"
    }
   ],
   "dockerImageVersionId": 30918,
   "isGpuEnabled": true,
   "isInternetEnabled": true,
   "language": "python",
   "sourceType": "notebook"
  },
  "kernelspec": {
   "display_name": "Python 3",
   "language": "python",
   "name": "python3"
  },
  "language_info": {
   "codemirror_mode": {
    "name": "ipython",
    "version": 3
   },
   "file_extension": ".py",
   "mimetype": "text/x-python",
   "name": "python",
   "nbconvert_exporter": "python",
   "pygments_lexer": "ipython3",
   "version": "3.10.12"
  }
 },
 "nbformat": 4,
 "nbformat_minor": 4
}
