{
 "cells": [
  {
   "cell_type": "code",
   "execution_count": 74,
   "metadata": {
    "execution": {
     "iopub.execute_input": "2025-04-18T20:16:46.731433Z",
     "iopub.status.busy": "2025-04-18T20:16:46.730618Z",
     "iopub.status.idle": "2025-04-18T20:16:46.736756Z",
     "shell.execute_reply": "2025-04-18T20:16:46.735677Z",
     "shell.execute_reply.started": "2025-04-18T20:16:46.731394Z"
    },
    "trusted": true
   },
   "outputs": [],
   "source": [
    "import numpy as np \n",
    "import pandas as pd \n",
    "import os\n",
    "import re\n",
    "import warnings\n",
    "import matplotlib.pyplot as plt\n",
    "import seaborn as sns\n",
    "import librosa\n",
    "import librosa.display\n",
    "from sklearn.preprocessing import minmax_scale\n",
    "import IPython.display as ipd\n",
    "from sklearn.svm import SVC\n",
    "from sklearn.model_selection import train_test_split\n",
    "from tqdm import tqdm\n",
    "from sklearn.preprocessing import StandardScaler\n"
   ]
  },
  {
   "cell_type": "code",
   "execution_count": 50,
   "metadata": {
    "execution": {
     "iopub.execute_input": "2025-04-18T19:52:40.350771Z",
     "iopub.status.busy": "2025-04-18T19:52:40.349910Z",
     "iopub.status.idle": "2025-04-18T19:52:40.368291Z",
     "shell.execute_reply": "2025-04-18T19:52:40.367389Z",
     "shell.execute_reply.started": "2025-04-18T19:52:40.350738Z"
    },
    "trusted": true
   },
   "outputs": [
    {
     "data": {
      "text/html": [
       "<div>\n",
       "<style scoped>\n",
       "    .dataframe tbody tr th:only-of-type {\n",
       "        vertical-align: middle;\n",
       "    }\n",
       "\n",
       "    .dataframe tbody tr th {\n",
       "        vertical-align: top;\n",
       "    }\n",
       "\n",
       "    .dataframe thead th {\n",
       "        text-align: right;\n",
       "    }\n",
       "</style>\n",
       "<table border=\"1\" class=\"dataframe\">\n",
       "  <thead>\n",
       "    <tr style=\"text-align: right;\">\n",
       "      <th></th>\n",
       "      <th>is_dysarthria</th>\n",
       "      <th>gender</th>\n",
       "      <th>filename</th>\n",
       "    </tr>\n",
       "  </thead>\n",
       "  <tbody>\n",
       "    <tr>\n",
       "      <th>0</th>\n",
       "      <td>non_dysarthria</td>\n",
       "      <td>female</td>\n",
       "      <td>torgo_data/non_dysarthria_female/FC03_Session2...</td>\n",
       "    </tr>\n",
       "    <tr>\n",
       "      <th>1</th>\n",
       "      <td>non_dysarthria</td>\n",
       "      <td>female</td>\n",
       "      <td>torgo_data/non_dysarthria_female/FC02_Session3...</td>\n",
       "    </tr>\n",
       "    <tr>\n",
       "      <th>2</th>\n",
       "      <td>non_dysarthria</td>\n",
       "      <td>female</td>\n",
       "      <td>torgo_data/non_dysarthria_female/FC02_Session3...</td>\n",
       "    </tr>\n",
       "    <tr>\n",
       "      <th>3</th>\n",
       "      <td>non_dysarthria</td>\n",
       "      <td>female</td>\n",
       "      <td>torgo_data/non_dysarthria_female/FC03_Session2...</td>\n",
       "    </tr>\n",
       "    <tr>\n",
       "      <th>4</th>\n",
       "      <td>non_dysarthria</td>\n",
       "      <td>female</td>\n",
       "      <td>torgo_data/non_dysarthria_female/FC03_Session1...</td>\n",
       "    </tr>\n",
       "    <tr>\n",
       "      <th>...</th>\n",
       "      <td>...</td>\n",
       "      <td>...</td>\n",
       "      <td>...</td>\n",
       "    </tr>\n",
       "    <tr>\n",
       "      <th>1995</th>\n",
       "      <td>dysarthria</td>\n",
       "      <td>male</td>\n",
       "      <td>torgo_data/dysarthria_male/M03_Session2_0144.wav</td>\n",
       "    </tr>\n",
       "    <tr>\n",
       "      <th>1996</th>\n",
       "      <td>dysarthria</td>\n",
       "      <td>male</td>\n",
       "      <td>torgo_data/dysarthria_male/M02_Session1_0005.wav</td>\n",
       "    </tr>\n",
       "    <tr>\n",
       "      <th>1997</th>\n",
       "      <td>dysarthria</td>\n",
       "      <td>male</td>\n",
       "      <td>torgo_data/dysarthria_male/M03_Session2_0040.wav</td>\n",
       "    </tr>\n",
       "    <tr>\n",
       "      <th>1998</th>\n",
       "      <td>dysarthria</td>\n",
       "      <td>male</td>\n",
       "      <td>torgo_data/dysarthria_male/M03_Session2_0260.wav</td>\n",
       "    </tr>\n",
       "    <tr>\n",
       "      <th>1999</th>\n",
       "      <td>dysarthria</td>\n",
       "      <td>male</td>\n",
       "      <td>torgo_data/dysarthria_male/M03_Session2_0145.wav</td>\n",
       "    </tr>\n",
       "  </tbody>\n",
       "</table>\n",
       "<p>2000 rows × 3 columns</p>\n",
       "</div>"
      ],
      "text/plain": [
       "       is_dysarthria  gender  \\\n",
       "0     non_dysarthria  female   \n",
       "1     non_dysarthria  female   \n",
       "2     non_dysarthria  female   \n",
       "3     non_dysarthria  female   \n",
       "4     non_dysarthria  female   \n",
       "...              ...     ...   \n",
       "1995      dysarthria    male   \n",
       "1996      dysarthria    male   \n",
       "1997      dysarthria    male   \n",
       "1998      dysarthria    male   \n",
       "1999      dysarthria    male   \n",
       "\n",
       "                                               filename  \n",
       "0     torgo_data/non_dysarthria_female/FC03_Session2...  \n",
       "1     torgo_data/non_dysarthria_female/FC02_Session3...  \n",
       "2     torgo_data/non_dysarthria_female/FC02_Session3...  \n",
       "3     torgo_data/non_dysarthria_female/FC03_Session2...  \n",
       "4     torgo_data/non_dysarthria_female/FC03_Session1...  \n",
       "...                                                 ...  \n",
       "1995   torgo_data/dysarthria_male/M03_Session2_0144.wav  \n",
       "1996   torgo_data/dysarthria_male/M02_Session1_0005.wav  \n",
       "1997   torgo_data/dysarthria_male/M03_Session2_0040.wav  \n",
       "1998   torgo_data/dysarthria_male/M03_Session2_0260.wav  \n",
       "1999   torgo_data/dysarthria_male/M03_Session2_0145.wav  \n",
       "\n",
       "[2000 rows x 3 columns]"
      ]
     },
     "execution_count": 50,
     "metadata": {},
     "output_type": "execute_result"
    }
   ],
   "source": [
    "df = pd.read_csv('/kaggle/input/dysarthria-detection/torgo_data/data.csv')\n",
    "df"
   ]
  },
  {
   "cell_type": "code",
   "execution_count": 51,
   "metadata": {
    "execution": {
     "iopub.execute_input": "2025-04-18T19:52:42.583838Z",
     "iopub.status.busy": "2025-04-18T19:52:42.583472Z",
     "iopub.status.idle": "2025-04-18T19:52:42.592217Z",
     "shell.execute_reply": "2025-04-18T19:52:42.591250Z",
     "shell.execute_reply.started": "2025-04-18T19:52:42.583809Z"
    },
    "trusted": true
   },
   "outputs": [],
   "source": [
    "df['filename'] = df['filename'].apply(lambda x: os.path.join('/kaggle/input/dysarthria-detection',x))"
   ]
  },
  {
   "cell_type": "code",
   "execution_count": 83,
   "metadata": {
    "execution": {
     "iopub.execute_input": "2025-04-18T20:54:52.727416Z",
     "iopub.status.busy": "2025-04-18T20:54:52.726538Z",
     "iopub.status.idle": "2025-04-18T20:54:52.738723Z",
     "shell.execute_reply": "2025-04-18T20:54:52.737794Z",
     "shell.execute_reply.started": "2025-04-18T20:54:52.727366Z"
    },
    "trusted": true
   },
   "outputs": [],
   "source": [
    "def extract_mfcc_features(signal, fs, n_mfcc=52):\n",
    "    preemphasized_signal = librosa.effects.preemphasis(signal)\n",
    "    mfccs = librosa.feature.mfcc(y=preemphasized_signal, sr=fs, n_mfcc=n_mfcc)\n",
    "    return np.mean(mfccs, axis=1)\n",
    "\n",
    "\n",
    "def feature_extraction_only_mfcc(df):\n",
    "    features = []\n",
    "    for i, record in tqdm(df.iterrows(), total=df.shape[0]):\n",
    "        try:\n",
    "            speech, fs = librosa.load(record['filename'])\n",
    "            mfcc_features = extract_mfcc_features(speech, fs)  # (52 features)\n",
    "            all_features = np.concatenate([mfcc_features])\n",
    "            features.append(np.append(all_features, [record['is_dysarthria'], record['gender']]))  \n",
    "        except Exception as e:\n",
    "            print(f\"Error processing {record['filename']}: {e}\")\n",
    "\n",
    "    column_names = (\n",
    "        [f\"MFCC_{i}\" for i in range(52)] + ['class', 'gender'])\n",
    "    return pd.DataFrame(features, columns=column_names)\n"
   ]
  },
  {
   "cell_type": "code",
   "execution_count": 85,
   "metadata": {
    "execution": {
     "iopub.execute_input": "2025-04-18T20:55:52.329808Z",
     "iopub.status.busy": "2025-04-18T20:55:52.329476Z",
     "iopub.status.idle": "2025-04-18T21:02:39.461484Z",
     "shell.execute_reply": "2025-04-18T21:02:39.460410Z",
     "shell.execute_reply.started": "2025-04-18T20:55:52.329783Z"
    },
    "trusted": true
   },
   "outputs": [
    {
     "name": "stderr",
     "output_type": "stream",
     "text": [
      " 30%|███       | 600/2000 [02:01<04:29,  5.19it/s]/opt/conda/lib/python3.7/site-packages/librosa/util/decorators.py:88: UserWarning: PySoundFile failed. Trying audioread instead.\n",
      "  return f(*args, **kwargs)\n",
      " 30%|███       | 602/2000 [02:02<05:33,  4.19it/s]"
     ]
    },
    {
     "name": "stdout",
     "output_type": "stream",
     "text": [
      "Error processing /kaggle/input/dysarthria-detection/torgo_data/dysarthria_female/F01_Session1_0068.wav: \n"
     ]
    },
    {
     "name": "stderr",
     "output_type": "stream",
     "text": [
      " 78%|███████▊  | 1554/2000 [05:15<01:30,  4.94it/s]/opt/conda/lib/python3.7/site-packages/librosa/util/decorators.py:88: UserWarning: n_fft=2048 is too small for input signal of length=209\n",
      "  return f(*args, **kwargs)\n",
      " 78%|███████▊  | 1568/2000 [05:18<01:29,  4.83it/s]/opt/conda/lib/python3.7/site-packages/librosa/util/decorators.py:88: UserWarning: n_fft=2048 is too small for input signal of length=583\n",
      "  return f(*args, **kwargs)\n",
      " 80%|███████▉  | 1599/2000 [05:24<01:18,  5.08it/s]/opt/conda/lib/python3.7/site-packages/librosa/util/decorators.py:88: UserWarning: n_fft=2048 is too small for input signal of length=581\n",
      "  return f(*args, **kwargs)\n",
      " 84%|████████▎ | 1672/2000 [05:39<01:13,  4.44it/s]/opt/conda/lib/python3.7/site-packages/librosa/util/decorators.py:88: UserWarning: n_fft=2048 is too small for input signal of length=185\n",
      "  return f(*args, **kwargs)\n",
      " 85%|████████▌ | 1703/2000 [05:45<00:58,  5.08it/s]/opt/conda/lib/python3.7/site-packages/librosa/util/decorators.py:88: UserWarning: n_fft=2048 is too small for input signal of length=946\n",
      "  return f(*args, **kwargs)\n",
      " 87%|████████▋ | 1737/2000 [05:52<00:50,  5.23it/s]/opt/conda/lib/python3.7/site-packages/librosa/util/decorators.py:88: UserWarning: n_fft=2048 is too small for input signal of length=185\n",
      "  return f(*args, **kwargs)\n",
      " 92%|█████████▏| 1840/2000 [06:13<00:33,  4.80it/s]/opt/conda/lib/python3.7/site-packages/librosa/util/decorators.py:88: UserWarning: n_fft=2048 is too small for input signal of length=214\n",
      "  return f(*args, **kwargs)\n",
      " 94%|█████████▍| 1889/2000 [06:24<00:24,  4.54it/s]/opt/conda/lib/python3.7/site-packages/librosa/util/decorators.py:88: UserWarning: n_fft=2048 is too small for input signal of length=581\n",
      "  return f(*args, **kwargs)\n",
      "100%|██████████| 2000/2000 [06:46<00:00,  4.91it/s]\n"
     ]
    },
    {
     "data": {
      "text/html": [
       "<div>\n",
       "<style scoped>\n",
       "    .dataframe tbody tr th:only-of-type {\n",
       "        vertical-align: middle;\n",
       "    }\n",
       "\n",
       "    .dataframe tbody tr th {\n",
       "        vertical-align: top;\n",
       "    }\n",
       "\n",
       "    .dataframe thead th {\n",
       "        text-align: right;\n",
       "    }\n",
       "</style>\n",
       "<table border=\"1\" class=\"dataframe\">\n",
       "  <thead>\n",
       "    <tr style=\"text-align: right;\">\n",
       "      <th></th>\n",
       "      <th>MFCC_0</th>\n",
       "      <th>MFCC_1</th>\n",
       "      <th>MFCC_2</th>\n",
       "      <th>MFCC_3</th>\n",
       "      <th>MFCC_4</th>\n",
       "      <th>MFCC_5</th>\n",
       "      <th>MFCC_6</th>\n",
       "      <th>MFCC_7</th>\n",
       "      <th>MFCC_8</th>\n",
       "      <th>MFCC_9</th>\n",
       "      <th>...</th>\n",
       "      <th>MFCC_44</th>\n",
       "      <th>MFCC_45</th>\n",
       "      <th>MFCC_46</th>\n",
       "      <th>MFCC_47</th>\n",
       "      <th>MFCC_48</th>\n",
       "      <th>MFCC_49</th>\n",
       "      <th>MFCC_50</th>\n",
       "      <th>MFCC_51</th>\n",
       "      <th>class</th>\n",
       "      <th>gender</th>\n",
       "    </tr>\n",
       "  </thead>\n",
       "  <tbody>\n",
       "    <tr>\n",
       "      <th>0</th>\n",
       "      <td>-321.8849</td>\n",
       "      <td>38.071064</td>\n",
       "      <td>-68.739914</td>\n",
       "      <td>52.882797</td>\n",
       "      <td>-51.438004</td>\n",
       "      <td>33.804836</td>\n",
       "      <td>-27.810905</td>\n",
       "      <td>15.778974</td>\n",
       "      <td>-6.667152</td>\n",
       "      <td>-3.5620265</td>\n",
       "      <td>...</td>\n",
       "      <td>-3.2477632</td>\n",
       "      <td>-3.2151062</td>\n",
       "      <td>-3.147</td>\n",
       "      <td>-5.3647757</td>\n",
       "      <td>-2.491062</td>\n",
       "      <td>-3.6335604</td>\n",
       "      <td>1.2841895</td>\n",
       "      <td>-0.78434616</td>\n",
       "      <td>0</td>\n",
       "      <td>0</td>\n",
       "    </tr>\n",
       "    <tr>\n",
       "      <th>1</th>\n",
       "      <td>-397.47217</td>\n",
       "      <td>43.663372</td>\n",
       "      <td>-66.43465</td>\n",
       "      <td>50.78867</td>\n",
       "      <td>-52.61186</td>\n",
       "      <td>34.377625</td>\n",
       "      <td>-19.319807</td>\n",
       "      <td>23.47946</td>\n",
       "      <td>-4.9972677</td>\n",
       "      <td>1.8685217</td>\n",
       "      <td>...</td>\n",
       "      <td>-4.8450108</td>\n",
       "      <td>-6.027408</td>\n",
       "      <td>-4.5689974</td>\n",
       "      <td>-4.3030243</td>\n",
       "      <td>-1.4358406</td>\n",
       "      <td>-3.9269426</td>\n",
       "      <td>0.97904354</td>\n",
       "      <td>-0.85440105</td>\n",
       "      <td>0</td>\n",
       "      <td>0</td>\n",
       "    </tr>\n",
       "    <tr>\n",
       "      <th>2</th>\n",
       "      <td>-403.0331</td>\n",
       "      <td>48.61085</td>\n",
       "      <td>-75.80271</td>\n",
       "      <td>59.331272</td>\n",
       "      <td>-60.496555</td>\n",
       "      <td>39.685482</td>\n",
       "      <td>-21.9657</td>\n",
       "      <td>24.221592</td>\n",
       "      <td>-5.0357265</td>\n",
       "      <td>2.854687</td>\n",
       "      <td>...</td>\n",
       "      <td>-5.8201814</td>\n",
       "      <td>-5.5251985</td>\n",
       "      <td>-4.6797113</td>\n",
       "      <td>-5.1114883</td>\n",
       "      <td>-2.613155</td>\n",
       "      <td>-3.7514424</td>\n",
       "      <td>0.76030105</td>\n",
       "      <td>-1.147969</td>\n",
       "      <td>0</td>\n",
       "      <td>0</td>\n",
       "    </tr>\n",
       "    <tr>\n",
       "      <th>3</th>\n",
       "      <td>-305.53836</td>\n",
       "      <td>45.826977</td>\n",
       "      <td>-80.133705</td>\n",
       "      <td>45.7298</td>\n",
       "      <td>-59.486927</td>\n",
       "      <td>34.230366</td>\n",
       "      <td>-26.525415</td>\n",
       "      <td>16.386002</td>\n",
       "      <td>-8.175198</td>\n",
       "      <td>1.2552539</td>\n",
       "      <td>...</td>\n",
       "      <td>-5.3292108</td>\n",
       "      <td>-2.8854196</td>\n",
       "      <td>-2.0361643</td>\n",
       "      <td>-3.6521723</td>\n",
       "      <td>-0.11458776</td>\n",
       "      <td>-3.5338438</td>\n",
       "      <td>1.2684168</td>\n",
       "      <td>-1.7480026</td>\n",
       "      <td>0</td>\n",
       "      <td>0</td>\n",
       "    </tr>\n",
       "    <tr>\n",
       "      <th>4</th>\n",
       "      <td>-382.79202</td>\n",
       "      <td>44.641994</td>\n",
       "      <td>-72.663536</td>\n",
       "      <td>62.55453</td>\n",
       "      <td>-56.231552</td>\n",
       "      <td>43.691082</td>\n",
       "      <td>-27.900242</td>\n",
       "      <td>24.038292</td>\n",
       "      <td>-5.414121</td>\n",
       "      <td>-0.08006054</td>\n",
       "      <td>...</td>\n",
       "      <td>-5.554988</td>\n",
       "      <td>-4.2114215</td>\n",
       "      <td>-5.4698343</td>\n",
       "      <td>-3.7214656</td>\n",
       "      <td>-1.2073728</td>\n",
       "      <td>-4.00359</td>\n",
       "      <td>1.9998858</td>\n",
       "      <td>-0.4341714</td>\n",
       "      <td>0</td>\n",
       "      <td>0</td>\n",
       "    </tr>\n",
       "    <tr>\n",
       "      <th>...</th>\n",
       "      <td>...</td>\n",
       "      <td>...</td>\n",
       "      <td>...</td>\n",
       "      <td>...</td>\n",
       "      <td>...</td>\n",
       "      <td>...</td>\n",
       "      <td>...</td>\n",
       "      <td>...</td>\n",
       "      <td>...</td>\n",
       "      <td>...</td>\n",
       "      <td>...</td>\n",
       "      <td>...</td>\n",
       "      <td>...</td>\n",
       "      <td>...</td>\n",
       "      <td>...</td>\n",
       "      <td>...</td>\n",
       "      <td>...</td>\n",
       "      <td>...</td>\n",
       "      <td>...</td>\n",
       "      <td>...</td>\n",
       "      <td>...</td>\n",
       "    </tr>\n",
       "    <tr>\n",
       "      <th>1994</th>\n",
       "      <td>-403.71872</td>\n",
       "      <td>51.09305</td>\n",
       "      <td>-51.249813</td>\n",
       "      <td>38.640656</td>\n",
       "      <td>-35.678566</td>\n",
       "      <td>23.174456</td>\n",
       "      <td>-16.824</td>\n",
       "      <td>6.9320345</td>\n",
       "      <td>-7.550931</td>\n",
       "      <td>-7.1558795</td>\n",
       "      <td>...</td>\n",
       "      <td>0.027684843</td>\n",
       "      <td>-1.1792083</td>\n",
       "      <td>1.1677849</td>\n",
       "      <td>2.7969115</td>\n",
       "      <td>5.47482</td>\n",
       "      <td>1.4096812</td>\n",
       "      <td>3.8003335</td>\n",
       "      <td>4.310961</td>\n",
       "      <td>1</td>\n",
       "      <td>1</td>\n",
       "    </tr>\n",
       "    <tr>\n",
       "      <th>1995</th>\n",
       "      <td>-569.68805</td>\n",
       "      <td>56.68513</td>\n",
       "      <td>-27.54152</td>\n",
       "      <td>7.4583964</td>\n",
       "      <td>-43.36391</td>\n",
       "      <td>13.932602</td>\n",
       "      <td>-26.487234</td>\n",
       "      <td>10.091115</td>\n",
       "      <td>-2.1981294</td>\n",
       "      <td>-5.796619</td>\n",
       "      <td>...</td>\n",
       "      <td>1.2899591</td>\n",
       "      <td>3.3523748</td>\n",
       "      <td>4.729969</td>\n",
       "      <td>3.4059045</td>\n",
       "      <td>4.546122</td>\n",
       "      <td>-1.0111803</td>\n",
       "      <td>1.9846035</td>\n",
       "      <td>-0.03278939</td>\n",
       "      <td>1</td>\n",
       "      <td>1</td>\n",
       "    </tr>\n",
       "    <tr>\n",
       "      <th>1996</th>\n",
       "      <td>-474.64447</td>\n",
       "      <td>57.78966</td>\n",
       "      <td>-50.356323</td>\n",
       "      <td>40.01922</td>\n",
       "      <td>-31.808434</td>\n",
       "      <td>22.042181</td>\n",
       "      <td>-13.612051</td>\n",
       "      <td>14.951826</td>\n",
       "      <td>-3.0641358</td>\n",
       "      <td>-0.7001935</td>\n",
       "      <td>...</td>\n",
       "      <td>-1.3930317</td>\n",
       "      <td>-2.280362</td>\n",
       "      <td>-0.22452183</td>\n",
       "      <td>1.6430984</td>\n",
       "      <td>3.7832727</td>\n",
       "      <td>1.5918031</td>\n",
       "      <td>6.0558863</td>\n",
       "      <td>3.9138167</td>\n",
       "      <td>1</td>\n",
       "      <td>1</td>\n",
       "    </tr>\n",
       "    <tr>\n",
       "      <th>1997</th>\n",
       "      <td>-408.28226</td>\n",
       "      <td>57.262577</td>\n",
       "      <td>-63.547016</td>\n",
       "      <td>52.46067</td>\n",
       "      <td>-43.30712</td>\n",
       "      <td>19.663355</td>\n",
       "      <td>-18.810972</td>\n",
       "      <td>15.155557</td>\n",
       "      <td>-10.767587</td>\n",
       "      <td>-7.6108117</td>\n",
       "      <td>...</td>\n",
       "      <td>0.38655835</td>\n",
       "      <td>0.9346762</td>\n",
       "      <td>2.9908428</td>\n",
       "      <td>0.84285957</td>\n",
       "      <td>3.5902562</td>\n",
       "      <td>2.557257</td>\n",
       "      <td>4.5891013</td>\n",
       "      <td>1.9876118</td>\n",
       "      <td>1</td>\n",
       "      <td>1</td>\n",
       "    </tr>\n",
       "    <tr>\n",
       "      <th>1998</th>\n",
       "      <td>-489.45834</td>\n",
       "      <td>38.949963</td>\n",
       "      <td>-49.645943</td>\n",
       "      <td>50.723206</td>\n",
       "      <td>-47.088455</td>\n",
       "      <td>33.00179</td>\n",
       "      <td>-15.84678</td>\n",
       "      <td>18.348816</td>\n",
       "      <td>-5.026142</td>\n",
       "      <td>-3.0963905</td>\n",
       "      <td>...</td>\n",
       "      <td>-0.42825988</td>\n",
       "      <td>-1.5324931</td>\n",
       "      <td>-0.86298925</td>\n",
       "      <td>1.1036104</td>\n",
       "      <td>3.68359</td>\n",
       "      <td>-1.3322443</td>\n",
       "      <td>2.9977934</td>\n",
       "      <td>2.8049433</td>\n",
       "      <td>1</td>\n",
       "      <td>1</td>\n",
       "    </tr>\n",
       "  </tbody>\n",
       "</table>\n",
       "<p>1999 rows × 54 columns</p>\n",
       "</div>"
      ],
      "text/plain": [
       "          MFCC_0     MFCC_1      MFCC_2     MFCC_3      MFCC_4     MFCC_5  \\\n",
       "0      -321.8849  38.071064  -68.739914  52.882797  -51.438004  33.804836   \n",
       "1     -397.47217  43.663372   -66.43465   50.78867   -52.61186  34.377625   \n",
       "2      -403.0331   48.61085   -75.80271  59.331272  -60.496555  39.685482   \n",
       "3     -305.53836  45.826977  -80.133705    45.7298  -59.486927  34.230366   \n",
       "4     -382.79202  44.641994  -72.663536   62.55453  -56.231552  43.691082   \n",
       "...          ...        ...         ...        ...         ...        ...   \n",
       "1994  -403.71872   51.09305  -51.249813  38.640656  -35.678566  23.174456   \n",
       "1995  -569.68805   56.68513   -27.54152  7.4583964   -43.36391  13.932602   \n",
       "1996  -474.64447   57.78966  -50.356323   40.01922  -31.808434  22.042181   \n",
       "1997  -408.28226  57.262577  -63.547016   52.46067   -43.30712  19.663355   \n",
       "1998  -489.45834  38.949963  -49.645943  50.723206  -47.088455   33.00179   \n",
       "\n",
       "          MFCC_6     MFCC_7      MFCC_8       MFCC_9  ...      MFCC_44  \\\n",
       "0     -27.810905  15.778974   -6.667152   -3.5620265  ...   -3.2477632   \n",
       "1     -19.319807   23.47946  -4.9972677    1.8685217  ...   -4.8450108   \n",
       "2       -21.9657  24.221592  -5.0357265     2.854687  ...   -5.8201814   \n",
       "3     -26.525415  16.386002   -8.175198    1.2552539  ...   -5.3292108   \n",
       "4     -27.900242  24.038292   -5.414121  -0.08006054  ...    -5.554988   \n",
       "...          ...        ...         ...          ...  ...          ...   \n",
       "1994     -16.824  6.9320345   -7.550931   -7.1558795  ...  0.027684843   \n",
       "1995  -26.487234  10.091115  -2.1981294    -5.796619  ...    1.2899591   \n",
       "1996  -13.612051  14.951826  -3.0641358   -0.7001935  ...   -1.3930317   \n",
       "1997  -18.810972  15.155557  -10.767587   -7.6108117  ...   0.38655835   \n",
       "1998   -15.84678  18.348816   -5.026142   -3.0963905  ...  -0.42825988   \n",
       "\n",
       "         MFCC_45      MFCC_46     MFCC_47      MFCC_48     MFCC_49  \\\n",
       "0     -3.2151062       -3.147  -5.3647757    -2.491062  -3.6335604   \n",
       "1      -6.027408   -4.5689974  -4.3030243   -1.4358406  -3.9269426   \n",
       "2     -5.5251985   -4.6797113  -5.1114883    -2.613155  -3.7514424   \n",
       "3     -2.8854196   -2.0361643  -3.6521723  -0.11458776  -3.5338438   \n",
       "4     -4.2114215   -5.4698343  -3.7214656   -1.2073728    -4.00359   \n",
       "...          ...          ...         ...          ...         ...   \n",
       "1994  -1.1792083    1.1677849   2.7969115      5.47482   1.4096812   \n",
       "1995   3.3523748     4.729969   3.4059045     4.546122  -1.0111803   \n",
       "1996   -2.280362  -0.22452183   1.6430984    3.7832727   1.5918031   \n",
       "1997   0.9346762    2.9908428  0.84285957    3.5902562    2.557257   \n",
       "1998  -1.5324931  -0.86298925   1.1036104      3.68359  -1.3322443   \n",
       "\n",
       "         MFCC_50      MFCC_51 class gender  \n",
       "0      1.2841895  -0.78434616     0      0  \n",
       "1     0.97904354  -0.85440105     0      0  \n",
       "2     0.76030105    -1.147969     0      0  \n",
       "3      1.2684168   -1.7480026     0      0  \n",
       "4      1.9998858   -0.4341714     0      0  \n",
       "...          ...          ...   ...    ...  \n",
       "1994   3.8003335     4.310961     1      1  \n",
       "1995   1.9846035  -0.03278939     1      1  \n",
       "1996   6.0558863    3.9138167     1      1  \n",
       "1997   4.5891013    1.9876118     1      1  \n",
       "1998   2.9977934    2.8049433     1      1  \n",
       "\n",
       "[1999 rows x 54 columns]"
      ]
     },
     "execution_count": 85,
     "metadata": {},
     "output_type": "execute_result"
    }
   ],
   "source": [
    "data_with_feat_mfcc = feature_extraction_only_mfcc(df)\n",
    "data_with_feat_mfcc['class'] = data_with_feat_mfcc['class'].replace('non_dysarthria',0)\n",
    "data_with_feat_mfcc['class'] = data_with_feat_mfcc['class'].replace('dysarthria',1)\n",
    "data_with_feat_mfcc['gender'] = data_with_feat_mfcc['gender'].replace('male', 1)\n",
    "data_with_feat_mfcc['gender'] = data_with_feat_mfcc['gender'].replace('female', 0)\n",
    "data_with_feat_mfcc"
   ]
  },
  {
   "cell_type": "code",
   "execution_count": null,
   "metadata": {
    "execution": {
     "iopub.execute_input": "2025-04-18T21:02:39.463955Z",
     "iopub.status.busy": "2025-04-18T21:02:39.463636Z",
     "iopub.status.idle": "2025-04-18T21:02:39.628266Z",
     "shell.execute_reply": "2025-04-18T21:02:39.627289Z",
     "shell.execute_reply.started": "2025-04-18T21:02:39.463925Z"
    },
    "trusted": true
   },
   "outputs": [],
   "source": [
    "X_mfcc = data_with_feat_mfcc.drop(columns = ['class'])\n",
    "X_mfcc.columns = X_mfcc.columns.astype(str)\n",
    "y_mfcc = data_with_feat_mfcc['class']\n",
    "X_mfcc = X_mfcc.astype(float)\n",
    "\n",
    "X_train_mfcc, X_test_mfcc, y_train_mfcc, y_test_mfcc = train_test_split(X_mfcc, y_mfcc, test_size=0.2, stratify=y_mfcc, random_state = 42)\n",
    "\n",
    "X_train_mfcc.replace([np.inf, -np.inf], np.nan, inplace=True)\n",
    "X_train_mfcc.fillna(X_train_mfcc.mean(), inplace=True)\n",
    "X_train_mfcc = X_train_mfcc.loc[:, X_train_mfcc.nunique() > 1] \n",
    "X_train_mfcc = X_train_mfcc.astype(float)\n",
    "y_train_mfcc = y_train_mfcc.astype(int)\n",
    "\n",
    "scaler = StandardScaler()\n",
    "X_train_mfcc = scaler.fit_transform(X_train_mfcc)\n",
    "X_test_mfcc = scaler.transform(X_test_mfcc)"
   ]
  },
  {
   "cell_type": "code",
   "execution_count": 87,
   "metadata": {
    "execution": {
     "iopub.execute_input": "2025-04-18T21:02:39.629680Z",
     "iopub.status.busy": "2025-04-18T21:02:39.629410Z",
     "iopub.status.idle": "2025-04-18T21:02:59.670016Z",
     "shell.execute_reply": "2025-04-18T21:02:59.669057Z",
     "shell.execute_reply.started": "2025-04-18T21:02:39.629656Z"
    },
    "trusted": true
   },
   "outputs": [
    {
     "name": "stdout",
     "output_type": "stream",
     "text": [
      "Best parameters for original dataset:\n",
      "{'C': 10, 'gamma': 0.1, 'kernel': 'rbf'}\n"
     ]
    }
   ],
   "source": [
    "from sklearn.model_selection import GridSearchCV\n",
    "\n",
    "param_grid=[\n",
    "    {'C':[0.5,1,10,100, 1000],\n",
    "     'gamma':[10,1,0.1,0.001,0.00001, 0.000001],\n",
    "     'kernel':['rbf'],\n",
    "    }\n",
    "]\n",
    "\n",
    "optional_params=GridSearchCV(SVC(),param_grid,cv=5,scoring='accuracy',verbose=0)\n",
    "optional_params.fit(X_train_mfcc,y_train_mfcc)\n",
    "print(\"Best parameters for original dataset:\")\n",
    "print(optional_params.best_params_)"
   ]
  },
  {
   "cell_type": "code",
   "execution_count": 88,
   "metadata": {
    "execution": {
     "iopub.execute_input": "2025-04-18T21:02:59.673299Z",
     "iopub.status.busy": "2025-04-18T21:02:59.672569Z",
     "iopub.status.idle": "2025-04-18T21:02:59.876399Z",
     "shell.execute_reply": "2025-04-18T21:02:59.875416Z",
     "shell.execute_reply.started": "2025-04-18T21:02:59.673257Z"
    },
    "trusted": true
   },
   "outputs": [
    {
     "name": "stdout",
     "output_type": "stream",
     "text": [
      "98.25 % accuracy\n"
     ]
    }
   ],
   "source": [
    "model_mfcc = SVC(kernel='rbf', gamma=0.1, C=10)\n",
    "model_mfcc.fit(X_train_mfcc, y_train_mfcc)\n",
    "\n",
    "from sklearn.metrics import accuracy_score\n",
    "predictions = model_mfcc.predict(X_test_mfcc) \n",
    "print(100*accuracy_score(y_test_mfcc, predictions), \"% accuracy\")"
   ]
  },
  {
   "cell_type": "markdown",
   "metadata": {},
   "source": [
    "# Epoch extraction (ZFF):"
   ]
  },
  {
   "cell_type": "code",
   "execution_count": null,
   "metadata": {
    "execution": {
     "iopub.execute_input": "2025-04-18T19:52:52.744593Z",
     "iopub.status.busy": "2025-04-18T19:52:52.744192Z",
     "iopub.status.idle": "2025-04-18T19:52:52.751218Z",
     "shell.execute_reply": "2025-04-18T19:52:52.750293Z",
     "shell.execute_reply.started": "2025-04-18T19:52:52.744563Z"
    },
    "trusted": true
   },
   "outputs": [],
   "source": [
    "def zero_frequency_filter(signal_data, fs, win_len_ms=10):\n",
    "    if len(signal_data) < 2:\n",
    "        return np.array([])\n",
    "    diff_signal = np.diff(signal_data)\n",
    "    zff_signal = np.cumsum(np.cumsum(diff_signal))  \n",
    "    win_len = int((win_len_ms / 1000) * fs)\n",
    "    if win_len > len(zff_signal):\n",
    "        win_len = len(zff_signal)\n",
    "    mean_trend = np.convolve(zff_signal, np.ones(win_len)/win_len, mode='same')\n",
    "    zff_filtered = zff_signal - mean_trend\n",
    "    return zff_filtered\n",
    "\n",
    "def detect_epochs(zff_signal):\n",
    "    zero_crossings = np.where((zff_signal[:-1] < 0) & (zff_signal[1:] >= 0))[0]\n",
    "    return zero_crossings"
   ]
  },
  {
   "cell_type": "markdown",
   "metadata": {},
   "source": [
    "# ISE Features"
   ]
  },
  {
   "cell_type": "code",
   "execution_count": 55,
   "metadata": {
    "execution": {
     "iopub.execute_input": "2025-04-18T19:52:54.168200Z",
     "iopub.status.busy": "2025-04-18T19:52:54.167284Z",
     "iopub.status.idle": "2025-04-18T19:52:54.176297Z",
     "shell.execute_reply": "2025-04-18T19:52:54.175138Z",
     "shell.execute_reply.started": "2025-04-18T19:52:54.168166Z"
    },
    "trusted": true
   },
   "outputs": [],
   "source": [
    "def compute_excitation_strength(zff_signal, epochs):\n",
    "    strengths = []\n",
    "    for i in epochs:\n",
    "        if i <= 0 or i >= len(zff_signal) - 1:\n",
    "            continue\n",
    "        slope = (zff_signal[i + 1] - zff_signal[i - 1]) / 2.0\n",
    "        strengths.append(np.abs(slope))\n",
    "    return np.array(strengths)\n",
    "\n",
    "def compute_instantaneous_frequency(epochs, fs):\n",
    "    if len(epochs) < 2:\n",
    "        return np.array([0.0])\n",
    "    periods = np.diff(epochs) / fs\n",
    "    freqs = 1.0 / periods\n",
    "    return freqs\n",
    "\n",
    "def compute_epoch_sharpness(zff_signal, epochs):\n",
    "    sharpness = []\n",
    "    for i in epochs:\n",
    "        if i <= 1 or i >= len(zff_signal) - 2:\n",
    "            continue\n",
    "        curvature = zff_signal[i - 1] - 2 * zff_signal[i] + zff_signal[i + 1]\n",
    "        sharpness.append(np.abs(curvature))\n",
    "    return np.array(sharpness)\n",
    "\n",
    "def compute_strength_slope(excitation_strength):\n",
    "    if len(excitation_strength) < 2:\n",
    "        return 0.0\n",
    "    x = np.arange(len(excitation_strength))\n",
    "    slope, _ = np.polyfit(x, excitation_strength, 1)\n",
    "    return slope"
   ]
  },
  {
   "cell_type": "code",
   "execution_count": 6,
   "metadata": {
    "execution": {
     "iopub.execute_input": "2025-04-18T19:35:11.776153Z",
     "iopub.status.busy": "2025-04-18T19:35:11.775503Z",
     "iopub.status.idle": "2025-04-18T19:35:11.781973Z",
     "shell.execute_reply": "2025-04-18T19:35:11.780935Z",
     "shell.execute_reply.started": "2025-04-18T19:35:11.776119Z"
    },
    "trusted": true
   },
   "outputs": [],
   "source": [
    "def extract_ise_features(speech, fs):\n",
    "    zff_signal = zero_frequency_filter(speech, fs)\n",
    "    epochs = detect_epochs(zff_signal)\n",
    "\n",
    "    excitation_strength = compute_excitation_strength(zff_signal, epochs)\n",
    "    instantaneous_freq = compute_instantaneous_frequency(epochs, fs)\n",
    "    sharpness = compute_epoch_sharpness(zff_signal, epochs)\n",
    "    strength_slope = compute_strength_slope(excitation_strength)\n",
    "\n",
    "    features = [\n",
    "        np.mean(excitation_strength), np.std(excitation_strength),\n",
    "        np.mean(instantaneous_freq), np.std(instantaneous_freq),\n",
    "        np.mean(sharpness), np.std(sharpness),\n",
    "        strength_slope\n",
    "    ]\n",
    "    \n",
    "    return np.array(features)"
   ]
  },
  {
   "cell_type": "code",
   "execution_count": 7,
   "metadata": {
    "execution": {
     "iopub.execute_input": "2025-04-18T19:35:13.427783Z",
     "iopub.status.busy": "2025-04-18T19:35:13.426933Z",
     "iopub.status.idle": "2025-04-18T19:35:13.434063Z",
     "shell.execute_reply": "2025-04-18T19:35:13.433072Z",
     "shell.execute_reply.started": "2025-04-18T19:35:13.427748Z"
    },
    "trusted": true
   },
   "outputs": [],
   "source": [
    "def feature_extraction_only_ise(df):\n",
    "    features = []\n",
    "    for i, record in tqdm(df.iterrows(), total=df.shape[0]):\n",
    "        try:\n",
    "            speech, fs = librosa.load(record['filename'], sr=None)\n",
    "            ise_features = extract_ise_features(speech, fs)\n",
    "            features.append(np.append(ise_features, [record['is_dysarthria'], record['gender']]))  \n",
    "        except Exception as e:\n",
    "            print(f\"Error processing {record['filename']}: {e}\")\n",
    "\n",
    "    column_names = [\n",
    "        'ISE_strength_mean', 'ISE_strength_std',\n",
    "        'ISE_freq_mean', 'ISE_freq_std',\n",
    "        'ISE_sharpness_mean', 'ISE_sharpness_std',\n",
    "        'ISE_strength_slope',\n",
    "        'class', 'gender'\n",
    "    ]\n",
    "    \n",
    "    return pd.DataFrame(features, columns=column_names)"
   ]
  },
  {
   "cell_type": "code",
   "execution_count": 81,
   "metadata": {
    "execution": {
     "iopub.execute_input": "2025-04-18T20:31:15.801046Z",
     "iopub.status.busy": "2025-04-18T20:31:15.800328Z",
     "iopub.status.idle": "2025-04-18T20:36:19.398162Z",
     "shell.execute_reply": "2025-04-18T20:36:19.397068Z",
     "shell.execute_reply.started": "2025-04-18T20:31:15.801010Z"
    },
    "trusted": true
   },
   "outputs": [
    {
     "name": "stderr",
     "output_type": "stream",
     "text": [
      " 30%|███       | 600/2000 [01:32<03:28,  6.71it/s]/opt/conda/lib/python3.7/site-packages/librosa/util/decorators.py:88: UserWarning: PySoundFile failed. Trying audioread instead.\n",
      "  return f(*args, **kwargs)\n",
      " 30%|███       | 602/2000 [01:32<04:47,  4.85it/s]"
     ]
    },
    {
     "name": "stdout",
     "output_type": "stream",
     "text": [
      "Error processing /kaggle/input/dysarthria-detection/torgo_data/dysarthria_female/F01_Session1_0068.wav: \n"
     ]
    },
    {
     "name": "stderr",
     "output_type": "stream",
     "text": [
      "100%|██████████| 2000/2000 [05:03<00:00,  6.59it/s]\n"
     ]
    },
    {
     "data": {
      "text/html": [
       "<div>\n",
       "<style scoped>\n",
       "    .dataframe tbody tr th:only-of-type {\n",
       "        vertical-align: middle;\n",
       "    }\n",
       "\n",
       "    .dataframe tbody tr th {\n",
       "        vertical-align: top;\n",
       "    }\n",
       "\n",
       "    .dataframe thead th {\n",
       "        text-align: right;\n",
       "    }\n",
       "</style>\n",
       "<table border=\"1\" class=\"dataframe\">\n",
       "  <thead>\n",
       "    <tr style=\"text-align: right;\">\n",
       "      <th></th>\n",
       "      <th>ISE_strength_mean</th>\n",
       "      <th>ISE_strength_std</th>\n",
       "      <th>ISE_freq_mean</th>\n",
       "      <th>ISE_freq_std</th>\n",
       "      <th>ISE_sharpness_mean</th>\n",
       "      <th>ISE_sharpness_std</th>\n",
       "      <th>ISE_strength_slope</th>\n",
       "      <th>class</th>\n",
       "      <th>gender</th>\n",
       "    </tr>\n",
       "  </thead>\n",
       "  <tbody>\n",
       "    <tr>\n",
       "      <th>0</th>\n",
       "      <td>0.1627320307560521</td>\n",
       "      <td>0.18384358805507914</td>\n",
       "      <td>902.7982115789631</td>\n",
       "      <td>1786.8451960960613</td>\n",
       "      <td>0.061103744219654706</td>\n",
       "      <td>0.1713727563440276</td>\n",
       "      <td>6.737747485437808e-05</td>\n",
       "      <td>0</td>\n",
       "      <td>0</td>\n",
       "    </tr>\n",
       "    <tr>\n",
       "      <th>1</th>\n",
       "      <td>0.07818826297818116</td>\n",
       "      <td>0.11807728931061615</td>\n",
       "      <td>588.2807770033745</td>\n",
       "      <td>1237.7090807826612</td>\n",
       "      <td>0.02333137202383986</td>\n",
       "      <td>0.04501960437792622</td>\n",
       "      <td>0.0008421688112107262</td>\n",
       "      <td>0</td>\n",
       "      <td>0</td>\n",
       "    </tr>\n",
       "    <tr>\n",
       "      <th>2</th>\n",
       "      <td>0.05073910418977122</td>\n",
       "      <td>0.07230949373282651</td>\n",
       "      <td>237.25576796395828</td>\n",
       "      <td>715.5177090478799</td>\n",
       "      <td>0.009309296912335265</td>\n",
       "      <td>0.016378763717400945</td>\n",
       "      <td>0.0001847161237875129</td>\n",
       "      <td>0</td>\n",
       "      <td>0</td>\n",
       "    </tr>\n",
       "    <tr>\n",
       "      <th>3</th>\n",
       "      <td>0.11482492158686129</td>\n",
       "      <td>0.11098339651986884</td>\n",
       "      <td>673.1684727542262</td>\n",
       "      <td>1255.7058113992764</td>\n",
       "      <td>0.03218057612253023</td>\n",
       "      <td>0.0392261927401425</td>\n",
       "      <td>-2.957139222266697e-05</td>\n",
       "      <td>0</td>\n",
       "      <td>0</td>\n",
       "    </tr>\n",
       "    <tr>\n",
       "      <th>4</th>\n",
       "      <td>0.07281622376552829</td>\n",
       "      <td>0.09918161318958388</td>\n",
       "      <td>309.18969437430405</td>\n",
       "      <td>794.3276457928066</td>\n",
       "      <td>0.014026179646336222</td>\n",
       "      <td>0.024552578934932928</td>\n",
       "      <td>0.0003200112311766083</td>\n",
       "      <td>0</td>\n",
       "      <td>0</td>\n",
       "    </tr>\n",
       "    <tr>\n",
       "      <th>...</th>\n",
       "      <td>...</td>\n",
       "      <td>...</td>\n",
       "      <td>...</td>\n",
       "      <td>...</td>\n",
       "      <td>...</td>\n",
       "      <td>...</td>\n",
       "      <td>...</td>\n",
       "      <td>...</td>\n",
       "      <td>...</td>\n",
       "    </tr>\n",
       "    <tr>\n",
       "      <th>1994</th>\n",
       "      <td>0.114022161408333</td>\n",
       "      <td>0.17422845870622058</td>\n",
       "      <td>962.9660853099915</td>\n",
       "      <td>1702.7321839154683</td>\n",
       "      <td>0.04158422136037279</td>\n",
       "      <td>0.0646548483563854</td>\n",
       "      <td>3.09615408463767e-05</td>\n",
       "      <td>1</td>\n",
       "      <td>1</td>\n",
       "    </tr>\n",
       "    <tr>\n",
       "      <th>1995</th>\n",
       "      <td>0.0936026998681805</td>\n",
       "      <td>0.12481270634998216</td>\n",
       "      <td>532.241892342725</td>\n",
       "      <td>825.1716919961045</td>\n",
       "      <td>0.014060020644225488</td>\n",
       "      <td>0.023424879017298585</td>\n",
       "      <td>-0.0001340761304919257</td>\n",
       "      <td>1</td>\n",
       "      <td>1</td>\n",
       "    </tr>\n",
       "    <tr>\n",
       "      <th>1996</th>\n",
       "      <td>0.07016394686500733</td>\n",
       "      <td>0.11115017937148101</td>\n",
       "      <td>194.88356740007055</td>\n",
       "      <td>284.79813769265445</td>\n",
       "      <td>0.011718116506643627</td>\n",
       "      <td>0.07761003193705475</td>\n",
       "      <td>0.0003031428329755708</td>\n",
       "      <td>1</td>\n",
       "      <td>1</td>\n",
       "    </tr>\n",
       "    <tr>\n",
       "      <th>1997</th>\n",
       "      <td>0.09766708944709021</td>\n",
       "      <td>0.14586491158042644</td>\n",
       "      <td>1277.2953566691433</td>\n",
       "      <td>1954.4783134008828</td>\n",
       "      <td>0.04199060368456561</td>\n",
       "      <td>0.06590999965683374</td>\n",
       "      <td>-3.001918989679841e-07</td>\n",
       "      <td>1</td>\n",
       "      <td>1</td>\n",
       "    </tr>\n",
       "    <tr>\n",
       "      <th>1998</th>\n",
       "      <td>0.03784357471230796</td>\n",
       "      <td>0.08872042774130792</td>\n",
       "      <td>1167.4933658597865</td>\n",
       "      <td>1910.9047143991554</td>\n",
       "      <td>0.030971821443535625</td>\n",
       "      <td>0.061554684904079705</td>\n",
       "      <td>0.00017682460728078494</td>\n",
       "      <td>1</td>\n",
       "      <td>1</td>\n",
       "    </tr>\n",
       "  </tbody>\n",
       "</table>\n",
       "<p>1999 rows × 9 columns</p>\n",
       "</div>"
      ],
      "text/plain": [
       "        ISE_strength_mean     ISE_strength_std       ISE_freq_mean  \\\n",
       "0      0.1627320307560521  0.18384358805507914   902.7982115789631   \n",
       "1     0.07818826297818116  0.11807728931061615   588.2807770033745   \n",
       "2     0.05073910418977122  0.07230949373282651  237.25576796395828   \n",
       "3     0.11482492158686129  0.11098339651986884   673.1684727542262   \n",
       "4     0.07281622376552829  0.09918161318958388  309.18969437430405   \n",
       "...                   ...                  ...                 ...   \n",
       "1994    0.114022161408333  0.17422845870622058   962.9660853099915   \n",
       "1995   0.0936026998681805  0.12481270634998216    532.241892342725   \n",
       "1996  0.07016394686500733  0.11115017937148101  194.88356740007055   \n",
       "1997  0.09766708944709021  0.14586491158042644  1277.2953566691433   \n",
       "1998  0.03784357471230796  0.08872042774130792  1167.4933658597865   \n",
       "\n",
       "            ISE_freq_std    ISE_sharpness_mean     ISE_sharpness_std  \\\n",
       "0     1786.8451960960613  0.061103744219654706    0.1713727563440276   \n",
       "1     1237.7090807826612   0.02333137202383986   0.04501960437792622   \n",
       "2      715.5177090478799  0.009309296912335265  0.016378763717400945   \n",
       "3     1255.7058113992764   0.03218057612253023    0.0392261927401425   \n",
       "4      794.3276457928066  0.014026179646336222  0.024552578934932928   \n",
       "...                  ...                   ...                   ...   \n",
       "1994  1702.7321839154683   0.04158422136037279    0.0646548483563854   \n",
       "1995   825.1716919961045  0.014060020644225488  0.023424879017298585   \n",
       "1996  284.79813769265445  0.011718116506643627   0.07761003193705475   \n",
       "1997  1954.4783134008828   0.04199060368456561   0.06590999965683374   \n",
       "1998  1910.9047143991554  0.030971821443535625  0.061554684904079705   \n",
       "\n",
       "          ISE_strength_slope  class  gender  \n",
       "0      6.737747485437808e-05      0       0  \n",
       "1      0.0008421688112107262      0       0  \n",
       "2      0.0001847161237875129      0       0  \n",
       "3     -2.957139222266697e-05      0       0  \n",
       "4      0.0003200112311766083      0       0  \n",
       "...                      ...    ...     ...  \n",
       "1994    3.09615408463767e-05      1       1  \n",
       "1995  -0.0001340761304919257      1       1  \n",
       "1996   0.0003031428329755708      1       1  \n",
       "1997  -3.001918989679841e-07      1       1  \n",
       "1998  0.00017682460728078494      1       1  \n",
       "\n",
       "[1999 rows x 9 columns]"
      ]
     },
     "execution_count": 81,
     "metadata": {},
     "output_type": "execute_result"
    }
   ],
   "source": [
    "data_with_feat_ise = feature_extraction_only_ise(df)\n",
    "data_with_feat_ise['class'] = data_with_feat_ise['class'].replace('non_dysarthria',0)\n",
    "data_with_feat_ise['class'] = data_with_feat_ise['class'].replace('dysarthria',1)\n",
    "data_with_feat_ise['gender'] = data_with_feat_ise['gender'].replace('male', 1)\n",
    "data_with_feat_ise['gender'] = data_with_feat_ise['gender'].replace('female', 0)\n",
    "data_with_feat_ise"
   ]
  },
  {
   "cell_type": "code",
   "execution_count": null,
   "metadata": {
    "execution": {
     "iopub.execute_input": "2025-04-08T17:48:47.743644Z",
     "iopub.status.busy": "2025-04-08T17:48:47.742250Z",
     "iopub.status.idle": "2025-04-08T17:48:47.795846Z",
     "shell.execute_reply": "2025-04-08T17:48:47.794618Z",
     "shell.execute_reply.started": "2025-04-08T17:48:47.743593Z"
    },
    "trusted": true
   },
   "outputs": [],
   "source": [
    "X_ise = data_with_feat_ise.drop(columns = ['class'])\n",
    "X_ise.columns = X_ise.columns.astype(str)\n",
    "y_ise = data_with_feat_ise['class']\n",
    "X_ise = X_ise.astype(float)\n",
    "\n",
    "X_train_ise, X_test_ise, y_train_ise, y_test_ise = train_test_split(X_ise, y_ise, test_size=0.2, stratify=y_ise, random_state = 42)\n",
    "\n",
    "X_train_ise.replace([np.inf, -np.inf], np.nan, inplace=True)\n",
    "X_train_ise.fillna(X_train_ise.mean(), inplace=True)\n",
    "X_train_ise = X_train_ise.loc[:, X_train_ise.nunique() > 1] \n",
    "\n",
    "\n",
    "scaler = StandardScaler()\n",
    "X_train_ise = scaler.fit_transform(X_train_ise)\n",
    "X_test_ise = scaler.transform(X_test_ise)\n",
    "\n",
    "X_train_ise = X_train_ise.astype(float)\n",
    "y_train_ise = y_train_ise.astype(int)"
   ]
  },
  {
   "cell_type": "code",
   "execution_count": 46,
   "metadata": {
    "execution": {
     "iopub.execute_input": "2025-04-08T17:48:49.603043Z",
     "iopub.status.busy": "2025-04-08T17:48:49.602063Z",
     "iopub.status.idle": "2025-04-08T17:49:05.379807Z",
     "shell.execute_reply": "2025-04-08T17:49:05.378354Z",
     "shell.execute_reply.started": "2025-04-08T17:48:49.603000Z"
    },
    "trusted": true
   },
   "outputs": [
    {
     "name": "stdout",
     "output_type": "stream",
     "text": [
      "Best parameters for original dataset:\n",
      "{'C': 1000, 'gamma': 0.1, 'kernel': 'rbf'}\n"
     ]
    }
   ],
   "source": [
    "from sklearn.model_selection import GridSearchCV\n",
    "\n",
    "param_grid=[\n",
    "    {'C':[0.5,1,10,100, 1000],\n",
    "     'gamma':[10,1,0.1,0.001,0.00001, 0.000001],\n",
    "     'kernel':['rbf'],\n",
    "    }\n",
    "]\n",
    "\n",
    "optional_params=GridSearchCV(SVC(),param_grid,cv=5,scoring='accuracy',verbose=0)\n",
    "optional_params.fit(X_train_ise,y_train_ise)\n",
    "print(\"Best parameters for original dataset:\")\n",
    "print(optional_params.best_params_)"
   ]
  },
  {
   "cell_type": "code",
   "execution_count": 47,
   "metadata": {
    "execution": {
     "iopub.execute_input": "2025-04-08T17:49:13.704069Z",
     "iopub.status.busy": "2025-04-08T17:49:13.703631Z",
     "iopub.status.idle": "2025-04-08T17:49:14.129752Z",
     "shell.execute_reply": "2025-04-08T17:49:14.128277Z",
     "shell.execute_reply.started": "2025-04-08T17:49:13.704036Z"
    },
    "trusted": true
   },
   "outputs": [
    {
     "name": "stdout",
     "output_type": "stream",
     "text": [
      "87.25 % accuracy\n"
     ]
    }
   ],
   "source": [
    "model_ise = SVC(kernel='rbf', gamma=1e-1, C=1000)\n",
    "model_ise.fit(X_train_ise, y_train_ise)\n",
    "\n",
    "from sklearn.metrics import accuracy_score\n",
    "predictions = model_ise.predict(X_test_ise) \n",
    "print(100*accuracy_score(y_test_ise, predictions), \"% accuracy\")"
   ]
  },
  {
   "cell_type": "markdown",
   "metadata": {},
   "source": [
    "# MFCC + ISE features"
   ]
  },
  {
   "cell_type": "code",
   "execution_count": null,
   "metadata": {
    "execution": {
     "iopub.execute_input": "2025-04-18T21:02:59.878142Z",
     "iopub.status.busy": "2025-04-18T21:02:59.877730Z",
     "iopub.status.idle": "2025-04-18T21:08:49.029496Z",
     "shell.execute_reply": "2025-04-18T21:08:49.028625Z",
     "shell.execute_reply.started": "2025-04-18T21:02:59.878095Z"
    },
    "trusted": true
   },
   "outputs": [
    {
     "name": "stderr",
     "output_type": "stream",
     "text": [
      " 30%|███       | 600/2000 [01:42<03:51,  6.04it/s]/opt/conda/lib/python3.7/site-packages/librosa/util/decorators.py:88: UserWarning: PySoundFile failed. Trying audioread instead.\n",
      "  return f(*args, **kwargs)\n",
      " 30%|███       | 602/2000 [01:43<05:05,  4.58it/s]"
     ]
    },
    {
     "name": "stdout",
     "output_type": "stream",
     "text": [
      "Error processing /kaggle/input/dysarthria-detection/torgo_data/dysarthria_female/F01_Session1_0068.wav: \n"
     ]
    },
    {
     "name": "stderr",
     "output_type": "stream",
     "text": [
      " 78%|███████▊  | 1554/2000 [04:26<01:19,  5.60it/s]/opt/conda/lib/python3.7/site-packages/librosa/util/decorators.py:88: UserWarning: n_fft=2048 is too small for input signal of length=151\n",
      "  return f(*args, **kwargs)\n",
      " 78%|███████▊  | 1568/2000 [04:29<01:19,  5.42it/s]/opt/conda/lib/python3.7/site-packages/librosa/util/decorators.py:88: UserWarning: n_fft=2048 is too small for input signal of length=423\n",
      "  return f(*args, **kwargs)\n",
      " 80%|███████▉  | 1599/2000 [04:35<01:10,  5.66it/s]/opt/conda/lib/python3.7/site-packages/librosa/util/decorators.py:88: UserWarning: n_fft=2048 is too small for input signal of length=421\n",
      "  return f(*args, **kwargs)\n",
      " 84%|████████▎ | 1672/2000 [04:48<01:04,  5.08it/s]/opt/conda/lib/python3.7/site-packages/librosa/util/decorators.py:88: UserWarning: n_fft=2048 is too small for input signal of length=134\n",
      "  return f(*args, **kwargs)\n",
      " 85%|████████▌ | 1703/2000 [04:54<00:52,  5.62it/s]/opt/conda/lib/python3.7/site-packages/librosa/util/decorators.py:88: UserWarning: n_fft=2048 is too small for input signal of length=686\n",
      "  return f(*args, **kwargs)\n",
      " 87%|████████▋ | 1737/2000 [05:00<00:45,  5.75it/s]/opt/conda/lib/python3.7/site-packages/librosa/util/decorators.py:88: UserWarning: n_fft=2048 is too small for input signal of length=134\n",
      "  return f(*args, **kwargs)\n",
      " 92%|█████████▏| 1840/2000 [05:19<00:29,  5.42it/s]/opt/conda/lib/python3.7/site-packages/librosa/util/decorators.py:88: UserWarning: n_fft=2048 is too small for input signal of length=155\n",
      "  return f(*args, **kwargs)\n",
      " 94%|█████████▍| 1889/2000 [05:28<00:21,  5.27it/s]/opt/conda/lib/python3.7/site-packages/librosa/util/decorators.py:88: UserWarning: n_fft=2048 is too small for input signal of length=421\n",
      "  return f(*args, **kwargs)\n",
      "100%|██████████| 2000/2000 [05:48<00:00,  5.73it/s]\n"
     ]
    }
   ],
   "source": [
    "def feature_extraction_mfcc_and_ise(df):\n",
    "    features = []\n",
    "    for i, record in tqdm(df.iterrows(), total=df.shape[0]):\n",
    "        try:\n",
    "            speech, fs = librosa.load(record['filename'], sr=None)\n",
    "\n",
    "            mfcc_features = extract_mfcc_features(speech, fs) \n",
    "            ise_features = extract_ise_features(speech, fs)  \n",
    "\n",
    "            all_features = np.concatenate([mfcc_features, ise_features])\n",
    "            features.append(np.append(all_features, [record['is_dysarthria'], record['gender']]))\n",
    "\n",
    "        except Exception as e:\n",
    "            print(f\"Error processing {record['filename']}: {e}\")\n",
    "\n",
    "    column_names = (\n",
    "        [f\"MFCC_{i}\" for i in range(len(mfcc_features))] +\n",
    "        ['ISE_strength_mean', 'ISE_strength_std',\n",
    "         'ISE_freq_mean', 'ISE_freq_std',\n",
    "         'ISE_sharpness_mean', 'ISE_sharpness_std',\n",
    "         'ISE_strength_slope'] +\n",
    "        ['class', 'gender']\n",
    "    )\n",
    "\n",
    "    return pd.DataFrame(features, columns=column_names)\n",
    "\n",
    "data_with_feat_mfcc_ise = feature_extraction_mfcc_and_ise(df)\n",
    "\n",
    "data_with_feat_mfcc_ise['class'] = data_with_feat_mfcc_ise['class'].replace('non_dysarthria', 0)\n",
    "data_with_feat_mfcc_ise['class'] = data_with_feat_mfcc_ise['class'].replace('dysarthria', 1)\n",
    "\n",
    "data_with_feat_mfcc_ise['gender'] = data_with_feat_mfcc_ise['gender'].replace('male', 1)\n",
    "data_with_feat_mfcc_ise['gender'] = data_with_feat_mfcc_ise['gender'].replace('female', 0)\n"
   ]
  },
  {
   "cell_type": "code",
   "execution_count": null,
   "metadata": {
    "execution": {
     "iopub.execute_input": "2025-04-18T21:08:49.031605Z",
     "iopub.status.busy": "2025-04-18T21:08:49.031214Z",
     "iopub.status.idle": "2025-04-18T21:08:49.267504Z",
     "shell.execute_reply": "2025-04-18T21:08:49.266507Z",
     "shell.execute_reply.started": "2025-04-18T21:08:49.031571Z"
    },
    "trusted": true
   },
   "outputs": [],
   "source": [
    "X_mfcc_ise = data_with_feat_mfcc_ise.drop(columns=['class'])\n",
    "X_mfcc_ise.columns = X_mfcc_ise.columns.astype(str)\n",
    "y_mfcc_ise = data_with_feat_mfcc_ise['class']\n",
    "\n",
    "X_mfcc_ise = X_mfcc_ise.astype(float)\n",
    "\n",
    "X_train_mfcc_ise, X_test_mfcc_ise, y_train_mfcc_ise, y_test_mfcc_ise = train_test_split(\n",
    "    X_mfcc_ise, y_mfcc_ise, test_size=0.2, stratify=y_mfcc_ise, random_state=42\n",
    ")\n",
    "\n",
    "X_train_mfcc_ise.replace([np.inf, -np.inf], np.nan, inplace=True)\n",
    "X_train_mfcc_ise.fillna(X_train_mfcc_ise.mean(), inplace=True)\n",
    "X_train_mfcc_ise = X_train_mfcc_ise.loc[:, X_train_mfcc_ise.nunique() > 1]\n",
    "\n",
    "scaler = StandardScaler()\n",
    "X_train_mfcc_ise = scaler.fit_transform(X_train_mfcc_ise)\n",
    "X_test_mfcc_ise = scaler.transform(X_test_mfcc_ise)\n",
    "\n",
    "X_train_mfcc_ise = X_train_mfcc_ise.astype(float)\n",
    "y_train_mfcc_ise = y_train_mfcc_ise.astype(int)\n"
   ]
  },
  {
   "cell_type": "code",
   "execution_count": 91,
   "metadata": {
    "execution": {
     "iopub.execute_input": "2025-04-18T21:08:49.269606Z",
     "iopub.status.busy": "2025-04-18T21:08:49.268907Z",
     "iopub.status.idle": "2025-04-18T21:09:12.361357Z",
     "shell.execute_reply": "2025-04-18T21:09:12.360286Z",
     "shell.execute_reply.started": "2025-04-18T21:08:49.269570Z"
    },
    "trusted": true
   },
   "outputs": [
    {
     "name": "stdout",
     "output_type": "stream",
     "text": [
      "Best parameters for original dataset:\n",
      "{'C': 1000, 'gamma': 0.001, 'kernel': 'rbf'}\n"
     ]
    }
   ],
   "source": [
    "from sklearn.model_selection import GridSearchCV\n",
    "\n",
    "param_grid=[\n",
    "    {'C':[0.5,1,10,100, 1000],\n",
    "     'gamma':[10,1,0.1,0.001,0.00001, 0.000001],\n",
    "     'kernel':['rbf'],\n",
    "    }\n",
    "]\n",
    "\n",
    "optional_params=GridSearchCV(SVC(),param_grid,cv=5,scoring='accuracy',verbose=0)\n",
    "optional_params.fit(X_train_mfcc_ise,y_train_mfcc_ise)\n",
    "print(\"Best parameters for original dataset:\")\n",
    "print(optional_params.best_params_)"
   ]
  },
  {
   "cell_type": "code",
   "execution_count": 92,
   "metadata": {
    "execution": {
     "iopub.execute_input": "2025-04-18T21:09:12.362799Z",
     "iopub.status.busy": "2025-04-18T21:09:12.362514Z",
     "iopub.status.idle": "2025-04-18T21:09:12.436195Z",
     "shell.execute_reply": "2025-04-18T21:09:12.435301Z",
     "shell.execute_reply.started": "2025-04-18T21:09:12.362772Z"
    },
    "trusted": true
   },
   "outputs": [
    {
     "name": "stdout",
     "output_type": "stream",
     "text": [
      "98.0 % accuracy\n"
     ]
    }
   ],
   "source": [
    "model_mfcc_ise = SVC(kernel='rbf', gamma=0.001, C=1000)\n",
    "model_mfcc_ise.fit(X_train_mfcc_ise, y_train_mfcc_ise)\n",
    "\n",
    "predictions = model_mfcc_ise.predict(X_test_mfcc_ise)\n",
    "print(100 * accuracy_score(y_test_mfcc_ise, predictions), \"% accuracy\")"
   ]
  },
  {
   "cell_type": "markdown",
   "metadata": {},
   "source": [
    "## LP Residual around GCI"
   ]
  },
  {
   "cell_type": "code",
   "execution_count": 60,
   "metadata": {
    "execution": {
     "iopub.execute_input": "2025-04-18T19:54:29.546987Z",
     "iopub.status.busy": "2025-04-18T19:54:29.545959Z",
     "iopub.status.idle": "2025-04-18T19:54:29.552158Z",
     "shell.execute_reply": "2025-04-18T19:54:29.551258Z",
     "shell.execute_reply.started": "2025-04-18T19:54:29.546948Z"
    },
    "trusted": true
   },
   "outputs": [],
   "source": [
    "\n",
    "from scipy import signal\n",
    "def lp_residual(signal_data, order=10):\n",
    "    preemphasized_signal = librosa.effects.preemphasis(signal_data)\n",
    "    a = librosa.lpc(preemphasized_signal, order=order)\n",
    "    residual = signal.lfilter([1] + -1 * a[1:].tolist(), [1], preemphasized_signal)\n",
    "    return residual\n",
    "\n"
   ]
  },
  {
   "cell_type": "code",
   "execution_count": 63,
   "metadata": {
    "execution": {
     "iopub.execute_input": "2025-04-18T19:56:05.015289Z",
     "iopub.status.busy": "2025-04-18T19:56:05.014900Z",
     "iopub.status.idle": "2025-04-18T19:56:05.021441Z",
     "shell.execute_reply": "2025-04-18T19:56:05.020576Z",
     "shell.execute_reply.started": "2025-04-18T19:56:05.015230Z"
    },
    "trusted": true
   },
   "outputs": [],
   "source": [
    "def lpresidual_around_gci(residual_signal, gci_locations, window_size=20):\n",
    "    half_window = window_size // 2\n",
    "    excitation_windows = []\n",
    "\n",
    "    for gci in gci_locations:\n",
    "        start = gci - half_window\n",
    "        end = gci + half_window\n",
    "\n",
    "        if start >= 0 and end <= len(residual_signal):\n",
    "            window = residual_signal[start:end]\n",
    "            excitation_windows.append(window)\n",
    "\n",
    "    return excitation_windows\n"
   ]
  },
  {
   "cell_type": "code",
   "execution_count": null,
   "metadata": {
    "execution": {
     "iopub.execute_input": "2025-04-18T20:07:08.491717Z",
     "iopub.status.busy": "2025-04-18T20:07:08.491270Z",
     "iopub.status.idle": "2025-04-18T20:07:08.499747Z",
     "shell.execute_reply": "2025-04-18T20:07:08.498871Z",
     "shell.execute_reply.started": "2025-04-18T20:07:08.491682Z"
    },
    "trusted": true
   },
   "outputs": [],
   "source": [
    "\n",
    "def extract_lpf_gci(speech, fs, window_size=20):\n",
    "    residual = lp_residual(speech)\n",
    "\n",
    "    zff_signal = zero_frequency_filter(speech, fs)\n",
    "    gci_locations = detect_epochs(zff_signal)\n",
    "\n",
    "    excitation_windows = lpresidual_around_gci(residual, gci_locations, window_size)\n",
    "\n",
    "    skewnesses, kurtoses, entropies = [], [], []\n",
    "\n",
    "    for window in excitation_windows:\n",
    "        if len(window) == 0:\n",
    "            continue\n",
    "        sk = skew(window)\n",
    "        ku = kurtosis(window)\n",
    "        entropy = -np.sum((window**2) * np.log(window**2 + 1e-10))\n",
    "\n",
    "        skewnesses.append(sk)\n",
    "        kurtoses.append(ku)\n",
    "        entropies.append(entropy)\n",
    "\n",
    "    features = [\n",
    "        np.mean(skewnesses), np.std(skewnesses),\n",
    "        np.mean(kurtoses), np.std(kurtoses),\n",
    "        np.mean(entropies), np.std(entropies)\n",
    "    ]\n",
    "\n",
    "    return np.array(features)"
   ]
  },
  {
   "cell_type": "code",
   "execution_count": null,
   "metadata": {
    "execution": {
     "iopub.execute_input": "2025-04-18T20:16:56.120619Z",
     "iopub.status.busy": "2025-04-18T20:16:56.119992Z",
     "iopub.status.idle": "2025-04-18T20:25:10.183931Z",
     "shell.execute_reply": "2025-04-18T20:25:10.182787Z",
     "shell.execute_reply.started": "2025-04-18T20:16:56.120586Z"
    },
    "trusted": true
   },
   "outputs": [
    {
     "name": "stderr",
     "output_type": "stream",
     "text": [
      " 30%|███       | 600/2000 [02:15<04:44,  4.92it/s]/opt/conda/lib/python3.7/site-packages/librosa/util/decorators.py:88: UserWarning: PySoundFile failed. Trying audioread instead.\n",
      "  return f(*args, **kwargs)\n",
      " 30%|███       | 602/2000 [02:16<05:46,  4.04it/s]"
     ]
    },
    {
     "name": "stdout",
     "output_type": "stream",
     "text": [
      "Error processing /kaggle/input/dysarthria-detection/torgo_data/dysarthria_female/F01_Session1_0068.wav: \n"
     ]
    },
    {
     "name": "stderr",
     "output_type": "stream",
     "text": [
      "100%|██████████| 2000/2000 [08:14<00:00,  4.05it/s]\n"
     ]
    }
   ],
   "source": [
    "from scipy.stats import skew, kurtosis\n",
    "def feature_extraction_lpf_and_ise(df):\n",
    "    features = []\n",
    "    for i, record in tqdm(df.iterrows(), total=df.shape[0]):\n",
    "        try:\n",
    "            speech, fs = librosa.load(record['filename'], sr=None)\n",
    "\n",
    "            lpf_features = extract_lpf_gci(speech, fs)\n",
    "\n",
    "            all_features = np.concatenate([lpf_features])\n",
    "            features.append(np.append(all_features, [record['is_dysarthria'], record['gender']]))\n",
    "\n",
    "        except Exception as e:\n",
    "            print(f\"Error processing {record['filename']}: {e}\")\n",
    "\n",
    "    return pd.DataFrame(features)\n",
    "\n",
    "\n",
    "data_with_feat_lpf_ise = feature_extraction_lpf_and_ise(df)\n",
    "\n",
    "data_with_feat_lpf_ise['class'] = data_with_feat_lpf_ise['class'].replace('non_dysarthria', 0)\n",
    "data_with_feat_lpf_ise['class'] = data_with_feat_lpf_ise['class'].replace('dysarthria', 1)\n",
    "\n",
    "data_with_feat_lpf_ise['gender'] = data_with_feat_lpf_ise['gender'].replace('male', 1)\n",
    "data_with_feat_lpf_ise['gender'] = data_with_feat_lpf_ise['gender'].replace('female', 0)\n"
   ]
  },
  {
   "cell_type": "code",
   "execution_count": null,
   "metadata": {
    "execution": {
     "iopub.execute_input": "2025-04-18T20:25:10.187432Z",
     "iopub.status.busy": "2025-04-18T20:25:10.186465Z",
     "iopub.status.idle": "2025-04-18T20:25:22.916868Z",
     "shell.execute_reply": "2025-04-18T20:25:22.915926Z",
     "shell.execute_reply.started": "2025-04-18T20:25:10.187388Z"
    },
    "trusted": true
   },
   "outputs": [
    {
     "name": "stdout",
     "output_type": "stream",
     "text": [
      "Best parameters for original dataset:\n",
      "{'C': 10, 'gamma': 1, 'kernel': 'rbf'}\n"
     ]
    }
   ],
   "source": [
    "X_lpf_ise = data_with_feat_lpf_ise.drop(columns=['class'])\n",
    "X_lpf_ise.columns = X_lpf_ise.columns.astype(str)\n",
    "y_lpf_ise = data_with_feat_lpf_ise['class']\n",
    "\n",
    "X_lpf_ise = X_lpf_ise.astype(float)\n",
    "\n",
    "X_train_lpf_ise, X_test_lpf_ise, y_train_lpf_ise, y_test_lpf_ise = train_test_split(\n",
    "    X_lpf_ise, y_lpf_ise, test_size=0.2, stratify=y_lpf_ise, random_state=42\n",
    ")\n",
    "\n",
    "X_train_lpf_ise.replace([np.inf, -np.inf], np.nan, inplace=True)\n",
    "X_train_lpf_ise.fillna(X_train_lpf_ise.mean(), inplace=True)\n",
    "X_train_lpf_ise = X_train_lpf_ise.loc[:, X_train_lpf_ise.nunique() > 1]\n",
    "\n",
    "scaler = StandardScaler()\n",
    "X_train_lpf_ise = scaler.fit_transform(X_train_lpf_ise)\n",
    "X_test_lpf_ise = scaler.transform(X_test_lpf_ise)\n",
    "\n",
    "X_train_lpf_ise = X_train_lpf_ise.astype(float)\n",
    "y_train_lpf_ise = y_train_lpf_ise.astype(int)\n",
    "\n",
    "\n",
    "from sklearn.model_selection import GridSearchCV\n",
    "\n",
    "param_grid=[\n",
    "    {'C':[0.5,1,10,100, 1000],\n",
    "     'gamma':[10,1,0.1,0.001,0.00001, 0.000001],\n",
    "     'kernel':['rbf'],\n",
    "    }\n",
    "]\n",
    "\n",
    "optional_params=GridSearchCV(SVC(),param_grid,cv=5,scoring='accuracy',verbose=0)\n",
    "optional_params.fit(X_train_lpf_ise,y_train_lpf_ise)\n",
    "print(\"Best parameters for original dataset:\")\n",
    "print(optional_params.best_params_)"
   ]
  },
  {
   "cell_type": "code",
   "execution_count": 80,
   "metadata": {
    "execution": {
     "iopub.execute_input": "2025-04-18T20:28:30.147645Z",
     "iopub.status.busy": "2025-04-18T20:28:30.147278Z",
     "iopub.status.idle": "2025-04-18T20:28:30.231750Z",
     "shell.execute_reply": "2025-04-18T20:28:30.230852Z",
     "shell.execute_reply.started": "2025-04-18T20:28:30.147613Z"
    },
    "trusted": true
   },
   "outputs": [
    {
     "name": "stdout",
     "output_type": "stream",
     "text": [
      "87.25 % accuracy\n"
     ]
    }
   ],
   "source": [
    "model_lpf_ise = SVC(kernel='rbf', gamma=1, C=10)\n",
    "model_lpf_ise.fit(X_train_lpf_ise, y_train_lpf_ise)\n",
    "from sklearn.metrics import accuracy_score\n",
    "\n",
    "predictions = model_lpf_ise.predict(X_test_lpf_ise)\n",
    "print(100 * accuracy_score(y_test_lpf_ise, predictions), \"% accuracy\")"
   ]
  }
 ],
 "metadata": {
  "kaggle": {
   "accelerator": "gpu",
   "dataSources": [
    {
     "datasetId": 2394508,
     "sourceId": 4042447,
     "sourceType": "datasetVersion"
    }
   ],
   "dockerImageVersionId": 30213,
   "isGpuEnabled": true,
   "isInternetEnabled": true,
   "language": "python",
   "sourceType": "notebook"
  },
  "kernelspec": {
   "display_name": "Python 3",
   "language": "python",
   "name": "python3"
  },
  "language_info": {
   "codemirror_mode": {
    "name": "ipython",
    "version": 3
   },
   "file_extension": ".py",
   "mimetype": "text/x-python",
   "name": "python",
   "nbconvert_exporter": "python",
   "pygments_lexer": "ipython3",
   "version": "3.7.12"
  }
 },
 "nbformat": 4,
 "nbformat_minor": 4
}
